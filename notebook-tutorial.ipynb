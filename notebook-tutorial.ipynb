{
 "cells": [
  {
   "cell_type": "markdown",
   "metadata": {},
   "source": [
    "# Work Term Report\n",
    "\n",
    "## Table of Contents\n",
    "* [1. Introduction](#1.-Introduction)\n",
    "    * [1.1  Installation and Setup](#1.1-Installation-and-Setup)\n",
    "        * [1.1.1 Anaconda](#1.1.1-Anaconda)\n",
    "        * [1.1.2 Miniconda](#1.1.2-Miniconda)\n",
    "        * [1.1.3 Using Pip](#1.1.3-Using-Pip)\n",
    "    * [1.2  Running Jupyter](#1.2-Running-Jupyter)\n",
    "    * [1.3  Kernel](#1.3-Kernel)\n",
    "* [2. Jupyter Notebook Basics](#2.-Jupyter-Notebook-Basics)\n",
    "    * [2.1 Starting Out](#2.1-Starting-Out)\n",
    "    * [2.2 Code Cells](#2.2-Code-Cells)\n",
    "        * [2.2.1 Magic Commands](#2.2.1-Magic-Commands)\n",
    "    * [2.3 Markdown Cells](#2.3-Markdown-Cells)\n",
    "        * [2.3.1 Latex](#2.3.1-Latex)    \n",
    "    * [2.4 Raw NBConvert Cells](#2.4-Raw-NBConvert-Cells)\n",
    "* [3. Conda Virtual Environments](#3.-Conda-Virtual-Environments)\n",
    "    * [3.1 Why Conda](#3.1-Why-Conda)\n",
    "    * [3.2 How To Setup a Virtual Environment on the Kernel](#3.2-How-To-Setup-a-Virtual-Environment-on-the-Kernel)   \n",
    "* [4. Relevant Python Packages](#4.-Relevant-Python-Packages)\n",
    "* [5. Hosting and Sharing](#5.-Hosting-and-Sharing)\n",
    "* [6. Example](#6.-Example)\n",
    "* [7. Conclusion](#7.-Conclusion)\n"
   ]
  },
  {
   "cell_type": "markdown",
   "metadata": {},
   "source": [
    "\n",
    "---\n",
    "\n",
    "## 1. Introduction\n",
    "\n",
    "Jupyter notebooks have a huge variety of applications and with over 5 million notebooks on GitHub, are becoming more and more popular by the day [[1][1]]. As adoption of these notebooks increases, it becomes important to understand how they work and how to use them. The purpose of this notebook is to provide an interactive introduction to Jupyter notebooks - from installation to a small example - to help CADC employees, both present and future.\n",
    "\n",
    "### 1.1 Installation and Setup\n",
    "There are a few different ways to install Jupyter notebooks, depending on the needs of the user. \n",
    "\n",
    "#### 1.1.1 Anaconda\n",
    "The easiest way to install Jupyter is to install [Anaconda](https://docs.anaconda.com/). Anaconda is a package manager, virtual environment manager, and Python data science distribution. Installing Anaconda installs over 200 other data science packages, meaning the base installation takes up around 2 GB [[2][2]]. This includes astropy, conda, jupyter, matplotlib and many other [data science packages](https://docs.anaconda.com/anaconda/packages/py3.7_osx-64/). The Anaconda installation and instructions can be found on the [Anaconda website](https://www.anaconda.com/distribution/#download-section), where an OS-specific installer can be downloaded. Many users have no need for 200+ packages however, and find Anaconda to be too heavy.\n",
    "\n",
    "#### 1.1.2 Miniconda\n",
    "A lighter alternative to Anaconda is [Miniconda](https://docs.conda.io/en/latest/miniconda.html). This installation only contains conda, its dependencies, and Python. Conda is both a package manager and virtual environment manager, so other needed packages can be installed using conda. The installation instructions can be found on the [conda website](https://docs.conda.io/en/latest/miniconda.html).\n",
    "\n",
    "Once Miniconda is installed, Jupyter can be installed through conda via command line:\n",
    "\n",
    "```\n",
    "conda install jupyter\n",
    "```\n",
    "\n",
    "#### 1.1.3 Using Pip\n",
    "For users with some previous Python experience, Jupyter can be installed via pip using the commands:\n",
    "```\n",
    "pip install --upgrade pip\n",
    "pip install jupyter\n",
    "```\n",
    "Which first upgrades pip and then installs jupyter.\n",
    "\n",
    "### 1.2 Running Jupyter\n",
    "To run jupyter, in the command line, type:\n",
    "```\n",
    "jupyter notebook\n",
    "```\n",
    "and an instance should open in a browser. To see all the command options, use the `--help` or `-h` flag. Once jupyter has been started, the notebook dashboard will appear in the browser, as in the image below.\n",
    "\n",
    "![notebook dashboard](data/notebook-dashboard.png)\n",
    "\n",
    "The dashboard should show all files in directory that the jupyter instance was started in. To create a new notebook, select the `New` dropdown, then select the kernel. In this example, the only option is 'Python 3'. Once clicked, a new, untitled notebook will be opened.\n",
    "\n",
    "![notebook dashboard](data/new-notebook-kernel.png)\n",
    "\n",
    "The notebook should now be running. It will remain running until it is shutdown, either from the notebook dashboard or the command line - closing the browser will not stop the notebook [[3][3]]. Returning to the dashboard page, the new notebook should be visible with a green book icon which indicates it is running. Selecting the checkbox next to a running notebook will bring up options to duplicate, shutdown, view, edit, or delete it. Notebooks are of file type .ipynb, which store cell input, output, and metadata in JSON format [[4][4]]. The metadata can be viewed and edited by going to `Edit` > `Edit Notebook Metadata`; note that editing the metadata is not encouraged unless it needs to be done.\n",
    "\n",
    "### 1.3 Kernel\n",
    "The kernel is the notebook backend, which performs the computation of the code cells. There are many [different kernel languages](https://github.com/jupyter/jupyter/wiki/Jupyter-kernels) that Juypter supports (in fact, Jupyter comes from the combination of words Julia, Python, and R!), but this notebook is focused on Python kernels, known as IPython [[5][5]]. Kernels also are a way of managing different environments (e.g. different versions of Python, different dependencies, etc.). This will covered in detail in [section 3](#3.-Conda-Virtual-Environments).\n",
    "\n",
    "\n",
    "\n",
    "[1]: https://github.com/search?utf8=%E2%9C%93&q=extension%3Aipynb+nbformat_minor\n",
    "[2]: https://docs.anaconda.com/anaconda-enterprise/system-requirements/\n",
    "[3]: https://nbviewer.jupyter.org/github/jupyter/notebook/blob/master/docs/source/examples/Notebook/Notebook%20Basics.ipynb\n",
    "[4]: https://fileinfo.com/extension/ipynb\n",
    "[5]: https://www.datacamp.com/community/tutorials/tutorial-jupyter-notebook"
   ]
  },
  {
   "cell_type": "markdown",
   "metadata": {},
   "source": [
    "---\n",
    "\n",
    "## 2. Jupyter Notebook Basics\n",
    "The notebooks themselves are much more featured than just text and code.\n",
    "\n",
    "### 2.1 Starting Out\n",
    "A notebook can be in either `Edit mode` or `Command mode`. Edit mode is for editing code or markdown cells, and command mode is for executing, copying, pasting, etc. entire cells. Edit mode can be entered by clicking on a cell or pressing <kbd>Enter</kbd> and command mode can be entered by clicking outside a cell or pressing <kbd>Esc</kbd>.\n",
    "\n",
    "Here are a few quick shortcuts to get started:\n",
    "* <kbd>Shift</kbd>+<kbd>Cmd</kbd>+<kbd>p</kbd> : Gives a search-able list of commands\n",
    "* <kbd>Shift</kbd>+<kbd>Enter</kbd> : Execute the current cell\n",
    "* <kbd>Ctrl</kbd>+<kbd>Enter</kbd> : Execute the current cell and enter command mode\n",
    "\n",
    "A few more commands to use while in command mode:\n",
    "* <kbd>S</kbd>: Save the notebook\n",
    "* <kbd>A</kbd>: Insert a new cell above the current cell\n",
    "* <kbd>B</kbd>: Insert a new cell below the current cell\n",
    "* <kbd>M</kbd>: Change the current cell to markdown\n",
    "* <kbd>Y</kbd>: Change the current cell to code\n",
    "* <kbd>D</kbd>+<kbd>D</kbd>: Delete the current cell\n",
    "* <kbd>I</kbd>+<kbd>I</kbd>: Interrupt the kernel\n",
    "* <kbd>0</kbd>+<kbd>0</kbd>: Restart the kernel \n",
    "\n",
    "\n",
    "### 2.2 Code Cells\n",
    "Now is time run some code. Try to run the following cell and see what happens. Either use <kbd>Shift</kbd>+<kbd>Enter</kbd> or the run button <i class=\"fa-step-forward fa\"></i> in the tool bar.\n",
    "\n"
   ]
  },
  {
   "cell_type": "code",
   "execution_count": 1,
   "metadata": {},
   "outputs": [
    {
     "name": "stdout",
     "output_type": "stream",
     "text": [
      "Hello World\n"
     ]
    }
   ],
   "source": [
    "text = 'Hello World'\n",
    "print(text)"
   ]
  },
  {
   "cell_type": "markdown",
   "metadata": {},
   "source": [
    "This should run and print the result right below the cell. If the last line returns a value, Jupyter will also print the result of the cell to the screen without having to explicitly call `print()` - this can be suppressed by ending the line with a semicolon `;`. Something to note is the counter to the left of the code cell in the form `In []`. This shows order that the cells have executed on the kernel, which becomes important when running code cells that depend on one another. \n"
   ]
  },
  {
   "cell_type": "code",
   "execution_count": 2,
   "metadata": {},
   "outputs": [
    {
     "data": {
      "text/plain": [
       "7"
      ]
     },
     "execution_count": 2,
     "metadata": {},
     "output_type": "execute_result"
    }
   ],
   "source": [
    "2 + 5"
   ]
  },
  {
   "cell_type": "markdown",
   "metadata": {},
   "source": [
    "The result should be printed to the notebook. If code execution is slow or stalled, the kernel can be interrupted or restarted. This can be done with the <kbd>I</kbd>+<kbd>I</kbd> or <kbd>0</kbd>+<kbd>0</kbd> shortcuts mentioned above as well as the stop button <i class=\"fa-stop fa\"></i> or the restart button <i class=\"fa-repeat fa\"></i> in the toolbar.\n",
    "\n",
    "#### 2.2.1 Magic Commands\n",
    "The so-called 'magic commands' are built-in commands that are evoked with the `%` symbol that provide convenient solutions to common programming needs. There is line magic (called with `%`) and cell magic (called with `%%` at the top of a code cell). Magic commands do a variety of tasks such as switching the type of code executed in the cell or timing the code execution. To illustrate some commands are their uses, the magic command `%lsmagic` will print a list of all magic commands, and `%quickref` will bring up a magic command reference sheet [[6][6]]. \n",
    "\n",
    "In particular, a few magic commands that are used heavily are\n",
    " * `%%bash`: This converts the code cell to a bash shell.\n",
    " * `%%time`: Times the execution of the cell and prints a summary.\n",
    " * `%matplotlib [inline | notebook]`: Sets the matplotlib backend to output the plot. The `inline` backend displays plots statically, while the `notebook` backend has an interactive interface for the plots.\n",
    "\n",
    "Now demoing the `%quickref` command to get a quick reference guide of Jupyter commands:\n",
    "\n",
    "[6]: https://www.dataquest.io/blog/jupyter-notebook-tips-tricks-shortcuts/\n"
   ]
  },
  {
   "cell_type": "code",
   "execution_count": 3,
   "metadata": {},
   "outputs": [],
   "source": [
    "%quickref"
   ]
  },
  {
   "cell_type": "markdown",
   "metadata": {},
   "source": [
    "A window should pop up with all the relevant information. Now, using out the `%%bash` magic command, a script is run to download an image using the `wget` and save it in the `data` directory as `thumbs_up.png`."
   ]
  },
  {
   "cell_type": "code",
   "execution_count": 4,
   "metadata": {},
   "outputs": [
    {
     "name": "stderr",
     "output_type": "stream",
     "text": [
      "--2019-08-22 17:27:23--  https://emojipedia-us.s3.dualstack.us-west-1.amazonaws.com/socialmedia/apple/198/thumbs-up-sign_1f44d.png\n",
      "Resolving emojipedia-us.s3.dualstack.us-west-1.amazonaws.com (emojipedia-us.s3.dualstack.us-west-1.amazonaws.com)... 52.219.28.45, 2600:1fa0:c0c0:91:36e7:ed28::\n",
      "Connecting to emojipedia-us.s3.dualstack.us-west-1.amazonaws.com (emojipedia-us.s3.dualstack.us-west-1.amazonaws.com)|52.219.28.45|:443... connected.\n",
      "HTTP request sent, awaiting response... 200 OK\n",
      "Length: 12471 (12K) [image/png]\n",
      "Saving to: ‘data/thumbs_up.png’\n",
      "\n",
      "     0K .......... ..                                         100% 5.58M=0.002s\n",
      "\n",
      "2019-08-22 17:27:24 (5.58 MB/s) - ‘data/thumbs_up.png’ saved [12471/12471]\n",
      "\n"
     ]
    }
   ],
   "source": [
    "%%bash\n",
    "wget --output-document=data/thumbs_up.png https://emojipedia-us.s3.dualstack.us-west-1.amazonaws.com/socialmedia/apple/198/thumbs-up-sign_1f44d.png"
   ]
  },
  {
   "cell_type": "markdown",
   "metadata": {},
   "source": [
    "Once downloaded, the image can be displayed using the `matplotlib` package. The magic command `%matplotlib inline` sets up matplotlib to work interactively (i.e. without calling `plt.show()`), then the `mpimg()` function plots the image."
   ]
  },
  {
   "cell_type": "code",
   "execution_count": 5,
   "metadata": {},
   "outputs": [
    {
     "data": {
      "image/png": "[encoded data removed]",
      "text/plain": [
       "<Figure size 432x288 with 1 Axes>"
      ]
     },
     "metadata": {
      "needs_background": "light"
     },
     "output_type": "display_data"
    }
   ],
   "source": [
    "%matplotlib inline\n",
    "import matplotlib.image as mpimg\n",
    "import matplotlib.pyplot as plt\n",
    "\n",
    "img = mpimg.imread('data/thumbs_up.png')\n",
    "imgplot = plt.imshow(img)"
   ]
  },
  {
   "cell_type": "markdown",
   "metadata": {},
   "source": [
    "Two other helpful shortcuts in Jupyter are `?` and `!`.\n",
    "* `?`: This will show documentation and other information about the function/magic command\n",
    "* `!`: Turns the line into a shell command\n",
    "\n",
    "To quickly demonstrate, the documentation of the astroquery package will be fetched, and the contents of the current directory will be printed."
   ]
  },
  {
   "cell_type": "code",
   "execution_count": 6,
   "metadata": {},
   "outputs": [
    {
     "name": "stdout",
     "output_type": "stream",
     "text": [
      "README.md                      notebook-tutorial.ipynb\r\n",
      "\u001b[34mdata\u001b[m\u001b[m                           requirements.txt\r\n",
      "notebook-tutorial-update.ipynb word-count.py\r\n"
     ]
    }
   ],
   "source": [
    "import astroquery\n",
    "\n",
    "# Use the ? to display the documentation\n",
    "?astroquery\n",
    "\n",
    "# Use the ! to invoke a shell command\n",
    "! ls"
   ]
  },
  {
   "cell_type": "markdown",
   "metadata": {},
   "source": [
    "### 2.3 Markdown Cells\n",
    "Markdown cells are the main type of text cells used in Jupyter notebooks. It has text formatting syntax such as lists and tables, as defined in [Github-flavoured markdown](https://help.github.com/en/categories/writing-on-github). Markdown cells also support Latex equations.\n",
    "\n",
    "- **Bold and Italics**: To use *italics*, **bold** or ***italics and bold*** surround words in 1, 2, or 3 `*`\n",
    "    - `*italics*` shows *italics*\n",
    "    - `**bold**` shows **bold**\n",
    "    - `***italics and bold***` shows ***italics and bold***\n",
    "\n",
    "- **Links**: There are a two different types of links in markdown\n",
    "    - Inline style links: \n",
    "        - `[Google markdown style guide](https://github.com/google/styleguide/blob/gh-pages/docguide/style.md)` looks like [Google markdown style guide](https://github.com/google/styleguide/blob/gh-pages/docguide/style.md)\n",
    "    - Reusable or citation style links:\n",
    "        - `[Project Juypter site][1]` produces [Project Juypter site][1]\n",
    "        but must have `[1]: https://jupyter.org/` defined in the markdown cell\n",
    "        \n",
    "       \n",
    "[1]: https://jupyter.org/\n",
    "    \n",
    "\n",
    "\n",
    "- **Images**: Similar to links, images have the same syntax, but prefixed with a `!`\n",
    "    - `![Thumbs up](thumbs_up.png)` produces ![Thumbs up](data/thumbs_up.png)\n",
    "\n",
    "- **Headers**: To make headers, use hash marks. One mark for header one, two for header two, etc.\n",
    "```\n",
    "# Header 1 \n",
    "## Header 2 \n",
    "etc.\n",
    "###### Header 6 \n",
    "```\n",
    "\n",
    "\n",
    "- **Horizontal Rule**: To make a horizontal rules, use three `-` in a row, e.g. `---` to produce\n",
    "---\n",
    "\n",
    "- **Blockquotes**: Use a `>` to begin blockquotes\n",
    "\n",
    "    ```> Just a blockquote``` gives\n",
    "    > Just a blockquote\n",
    "\n",
    "\n",
    "- **Code**: To print a section of code inline, `surround it in backticks`: `` ` ``\n",
    "\n",
    "- **Verbatim**: To print a section of text verbatim, surround the section of text in triple backticks: `` ``` ``\n",
    "\n",
    "- **Lists**: \n",
    "     1. Starting a list with `1.` will start a numbered list\n",
    "     2. And continuing numbering will continue the list (in fact, the ordering of the numbers doesn't matter, Jupyter will keep track)\n",
    "         - Use a minus sign, plus sign, or asterisk for a bulleted list\n",
    "            * Lists can be nested using a tab\n",
    "    \n",
    "    This list in plain text follows the format: \n",
    "    \n",
    "```\n",
    "1. ...\n",
    "2. ...\n",
    "    - ...\n",
    "        * ...\n",
    "```\n",
    "\n",
    "\n",
    "- **Tables**: \n",
    "Tables follow the general format\n",
    "```\n",
    "| I'm  | The  | Header |\n",
    "| ---- | ---- | ------ |\n",
    "| I'm  |  a   |  row   |\n",
    "| One  | more |  row   |\n",
    "```\n",
    "    with as many rows and columns as needed. \n",
    "\n",
    "| I'm                | A             | Table |\n",
    "| ------------------ |---------------|-------|\n",
    "| Other text effects | *still work*  |  1600 |\n",
    "| And the spacing doesn't matter! | Markdown will align itself  |  Neat |\n",
    "\n",
    "#### 2.3.1 Latex\n",
    "Latex formatting, done through [MathJax](https://www.mathjax.org/), is also supported in text cells. This is particularly useful for including mathematical equations in notebooks. \n",
    "\n",
    "Inline expressions can be included by wrapping Latex math code in `$`:\n",
    "\n",
    "- `$e^{ix}=\\cos x+i\\sin x$`: $e^{ix}=\\cos x+i\\sin x$\n",
    "\n",
    "An expression that takes its own line can be included by wrapping code in `$$`:\n",
    "\n",
    "- `$$\\frac{{\\partial ^2 B}}{{\\partial x^2 }} = \\frac{1}{{c^2 }}\\frac{{\\partial ^2 B}}{{\\partial t^2 }}$$`:\n",
    "\n",
    "$$\\frac{{\\partial ^2 B}}{{\\partial x^2 }} = \\frac{1}{{c^2 }}\\frac{{\\partial ^2 B}}{{\\partial t^2 }}$$\n",
    "\n",
    "Two particularly helpful markdown resources are this [cheatsheet](https://github.com/adam-p/markdown-here/wiki/Markdown-Cheatsheet) and this [general help page](https://meta.askubuntu.com/editing-help).\n",
    "\n",
    "\n",
    "### 2.4 Raw NBConvert Cells\n",
    "These types of cells are never rendered, and thus save in the ipynb files as they appear in the Jupyter editor [[7][7]]. \n",
    "\n",
    "[7]: https://ipython.org/ipython-doc/dev/notebook/nbformat.html"
   ]
  },
  {
   "cell_type": "raw",
   "metadata": {},
   "source": [
    "Nothing will happen to stuff in here!"
   ]
  },
  {
   "cell_type": "markdown",
   "metadata": {},
   "source": [
    "___\n",
    "\n",
    "## 3. Conda Virtual Environments\n",
    "A convenient feature of Jupyter notebooks is the ability to execute code using different kernels. This becomes extremely useful when packages have different dependencies or different versions of python. One tool that can be used to create kernels is conda, the package and virtual environment manager. Conda is installed along with Anaconda and Miniconda.\n",
    "\n",
    "### 3.1 Why Conda\n",
    "Conda plays the part of both a package manager and virtual environment manager. The combination of pip and virtualenv gives gives the same functionality as conda does, with a few key differences.\n",
    "\n",
    "Conda is a general packages manager, while pip is a Python package manager. Pip installs packages from the Python Packaging Index (PyPI) whereas conda installs from the Anaconda repository and cloud [[8][8]]. Another key difference is how the tools handle dependencies - pip installs dependencies in a recursive loop which can lead to broken dependencies, while  conda uses a satisfiability solver to meet all package requirements.\n",
    "\n",
    "Conda is also a virtual environment manager, similar to the popular virtualenv. Conda can better handle virtual environments with different versions of python, as virtualenv requires all python versions used to be installed on the system, whereas conda does not [[9][9]]. Additionally, conda can manage non-python dependencies. Virtualenv is not as heavy as conda though, which makes debugging much easier. A [table that translates pip, virtualenv, and conda commands](https://conda.io/projects/conda/en/latest/commands.html#conda-vs-pip-vs-virtualenv-commands) can help outline more of the similarities and differences between conda, pip, and virtualenv.\n",
    "\n",
    "\n",
    "### 3.2 How To Setup a Virtual Environment on the Kernel\n",
    "Creating a new Jupyter kernel from a conda virtual environment can be done in two steps:\n",
    "\n",
    "1. A conda environment can be created and activated using the commands:\n",
    "\n",
    "    `conda create -n [ENV_NAME] python=[PYTHON_VERSION] [PACKAGES]`\n",
    "\n",
    "    `conda activate [ENV_NAME]`\n",
    "\n",
    "\n",
    "2. Install the conda environment as a Jupyter kernel by using the `ipykernel install` command:\n",
    "\n",
    "    `python -m ipykernel install --user --name [ENV_NAME] --display-name \"[DISP_NAME]\"`\n",
    "\n",
    "\n",
    "More detailed instructions can be found on the [iPython documentation site](https://ipython.readthedocs.io/en/stable/install/kernel_install.html#kernels-for-python-2-and-3). Now setting up a new conda environment and create a new kernel:\n",
    "\n",
    "[8]: https://www.anaconda.com/understanding-conda-and-pip/\n",
    "[9]: https://jakevdp.github.io/blog/2016/08/25/conda-myths-and-misconceptions/"
   ]
  },
  {
   "cell_type": "code",
   "execution_count": 7,
   "metadata": {},
   "outputs": [
    {
     "name": "stdout",
     "output_type": "stream",
     "text": [
      "# conda environments:\r\n",
      "#\r\n",
      "base                     /Users/EliseBadun/miniconda3\r\n",
      "test-env                 /Users/EliseBadun/miniconda3/envs/test-env\r\n",
      "work-term             *  /Users/EliseBadun/miniconda3/envs/work-term\r\n",
      "\r\n"
     ]
    }
   ],
   "source": [
    "# To get a list of conda environment, with the current env highlighted\n",
    "!conda env list"
   ]
  },
  {
   "cell_type": "code",
   "execution_count": 8,
   "metadata": {},
   "outputs": [
    {
     "name": "stdout",
     "output_type": "stream",
     "text": [
      "Collecting package metadata (current_repodata.json): ...working... done\n",
      "Solving environment: ...working... failed with current_repodata.json, will retry with next repodata source.\n",
      "Collecting package metadata (repodata.json): ...working... done\n",
      "Solving environment: ...working... done\n",
      "\n",
      "## Package Plan ##\n",
      "\n",
      "  environment location: /Users/EliseBadun/miniconda3/envs/test-env\n",
      "\n",
      "  added / updated specs:\n",
      "    - astropy\n",
      "    - ipykernel\n",
      "    - pandas\n",
      "    - python=3.6.3\n",
      "\n",
      "\n",
      "The following NEW packages will be INSTALLED:\n",
      "\n",
      "  appnope            pkgs/main/osx-64::appnope-0.1.0-py36hf537a9a_0\n",
      "  astropy            pkgs/main/osx-64::astropy-3.2.1-py36h1de35cc_0\n",
      "  atomicwrites       pkgs/main/osx-64::atomicwrites-1.3.0-py36_1\n",
      "  attrs              pkgs/main/osx-64::attrs-19.1.0-py36_1\n",
      "  backcall           pkgs/main/osx-64::backcall-0.1.0-py36_0\n",
      "  blas               pkgs/main/osx-64::blas-1.0-mkl\n",
      "  ca-certificates    pkgs/main/osx-64::ca-certificates-2019.5.15-1\n",
      "  certifi            pkgs/main/osx-64::certifi-2019.6.16-py36_1\n",
      "  decorator          pkgs/main/osx-64::decorator-4.4.0-py36_1\n",
      "  importlib_metadata pkgs/main/osx-64::importlib_metadata-0.19-py36_0\n",
      "  intel-openmp       pkgs/main/osx-64::intel-openmp-2019.4-233\n",
      "  ipykernel          pkgs/main/osx-64::ipykernel-5.1.2-py36h39e3cac_0\n",
      "  ipython            pkgs/main/osx-64::ipython-7.7.0-py36h39e3cac_0\n",
      "  ipython_genutils   pkgs/main/osx-64::ipython_genutils-0.2.0-py36h241746c_0\n",
      "  jedi               pkgs/main/osx-64::jedi-0.15.1-py36_0\n",
      "  jupyter_client     pkgs/main/noarch::jupyter_client-5.3.1-py_0\n",
      "  jupyter_core       pkgs/main/noarch::jupyter_core-4.5.0-py_0\n",
      "  libcxx             pkgs/main/osx-64::libcxx-4.0.1-hcfea43d_1\n",
      "  libcxxabi          pkgs/main/osx-64::libcxxabi-4.0.1-hcfea43d_1\n",
      "  libedit            pkgs/main/osx-64::libedit-3.1.20181209-hb402a30_0\n",
      "  libffi             pkgs/main/osx-64::libffi-3.2.1-h475c297_4\n",
      "  libgfortran        pkgs/main/osx-64::libgfortran-3.0.1-h93005f0_2\n",
      "  libsodium          pkgs/main/osx-64::libsodium-1.0.16-h3efe00b_0\n",
      "  mkl                pkgs/main/osx-64::mkl-2019.4-233\n",
      "  mkl-service        pkgs/main/osx-64::mkl-service-2.0.2-py36h1de35cc_0\n",
      "  mkl_fft            pkgs/main/osx-64::mkl_fft-1.0.14-py36h5e564d8_0\n",
      "  mkl_random         pkgs/main/osx-64::mkl_random-1.0.2-py36h27c97d8_0\n",
      "  more-itertools     pkgs/main/osx-64::more-itertools-7.2.0-py36_0\n",
      "  ncurses            pkgs/main/osx-64::ncurses-6.1-h0a44026_1\n",
      "  numpy              pkgs/main/osx-64::numpy-1.16.4-py36hacdab7b_0\n",
      "  numpy-base         pkgs/main/osx-64::numpy-base-1.16.4-py36h6575580_0\n",
      "  openssl            pkgs/main/osx-64::openssl-1.0.2s-h1de35cc_0\n",
      "  packaging          pkgs/main/osx-64::packaging-19.1-py36_0\n",
      "  pandas             pkgs/main/osx-64::pandas-0.25.0-py36h0a44026_0\n",
      "  parso              pkgs/main/noarch::parso-0.5.1-py_0\n",
      "  pexpect            pkgs/main/osx-64::pexpect-4.7.0-py36_0\n",
      "  pickleshare        pkgs/main/osx-64::pickleshare-0.7.5-py36_0\n",
      "  pip                pkgs/main/osx-64::pip-19.2.2-py36_0\n",
      "  pluggy             pkgs/main/noarch::pluggy-0.12.0-py_0\n",
      "  prompt_toolkit     pkgs/main/osx-64::prompt_toolkit-2.0.9-py36_0\n",
      "  psutil             pkgs/main/osx-64::psutil-5.6.3-py36h1de35cc_0\n",
      "  ptyprocess         pkgs/main/osx-64::ptyprocess-0.6.0-py36_0\n",
      "  py                 pkgs/main/osx-64::py-1.8.0-py36_0\n",
      "  pygments           pkgs/main/noarch::pygments-2.4.2-py_0\n",
      "  pyparsing          pkgs/main/noarch::pyparsing-2.4.2-py_0\n",
      "  pytest             pkgs/main/osx-64::pytest-5.0.1-py36_0\n",
      "  pytest-arraydiff   pkgs/main/osx-64::pytest-arraydiff-0.3-py36h39e3cac_0\n",
      "  pytest-astropy     pkgs/main/osx-64::pytest-astropy-0.5.0-py36_0\n",
      "  pytest-doctestplus pkgs/main/osx-64::pytest-doctestplus-0.3.0-py36_0\n",
      "  pytest-openfiles   pkgs/main/osx-64::pytest-openfiles-0.3.2-py36_0\n",
      "  pytest-remotedata  pkgs/main/osx-64::pytest-remotedata-0.3.2-py36_0\n",
      "  python             pkgs/main/osx-64::python-3.6.3-h47c878a_7\n",
      "  python-dateutil    pkgs/main/osx-64::python-dateutil-2.8.0-py36_0\n",
      "  pytz               pkgs/main/noarch::pytz-2019.2-py_0\n",
      "  pyzmq              pkgs/main/osx-64::pyzmq-18.1.0-py36h0a44026_0\n",
      "  readline           pkgs/main/osx-64::readline-7.0-h1de35cc_5\n",
      "  setuptools         pkgs/main/osx-64::setuptools-41.0.1-py36_0\n",
      "  six                pkgs/main/osx-64::six-1.12.0-py36_0\n",
      "  sqlite             pkgs/main/osx-64::sqlite-3.29.0-ha441bb4_0\n",
      "  tk                 pkgs/main/osx-64::tk-8.6.8-ha441bb4_0\n",
      "  tornado            pkgs/main/osx-64::tornado-6.0.3-py36h1de35cc_0\n",
      "  traitlets          pkgs/main/osx-64::traitlets-4.3.2-py36h65bd3ce_0\n",
      "  wcwidth            pkgs/main/osx-64::wcwidth-0.1.7-py36h8c6ec74_0\n",
      "  wheel              pkgs/main/osx-64::wheel-0.33.4-py36_0\n",
      "  xz                 pkgs/main/osx-64::xz-5.2.4-h1de35cc_4\n",
      "  zeromq             pkgs/main/osx-64::zeromq-4.3.1-h0a44026_3\n",
      "  zipp               pkgs/main/noarch::zipp-0.5.2-py_0\n",
      "  zlib               pkgs/main/osx-64::zlib-1.2.11-h1de35cc_3\n",
      "\n",
      "\n",
      "Preparing transaction: ...working... done\n",
      "Verifying transaction: ...working... done\n",
      "Executing transaction: ...working... done\n",
      "#\n",
      "# To activate this environment, use\n",
      "#\n",
      "#     $ conda activate test-env\n",
      "#\n",
      "# To deactivate an active environment, use\n",
      "#\n",
      "#     $ conda deactivate\n",
      "\n",
      "Installed kernelspec test-env in /Users/EliseBadun/Library/Jupyter/kernels/test-env\n"
     ]
    },
    {
     "name": "stderr",
     "output_type": "stream",
     "text": [
      "\n",
      "\n",
      "==> WARNING: A newer version of conda exists. <==\n",
      "  current version: 4.7.10\n",
      "  latest version: 4.7.11\n",
      "\n",
      "Please update conda by running\n",
      "\n",
      "    $ conda update -n base -c defaults conda\n",
      "\n",
      "\n"
     ]
    }
   ],
   "source": [
    "%%bash\n",
    "\n",
    "# Get the location of the conda installation\n",
    "CONDA_BASE=$(conda info --base)\n",
    "\n",
    "# Run the conda executable to make it work in this bash script\n",
    "# Normally this can be done with `conda init` (but not in a bash script)\n",
    "source $CONDA_BASE/etc/profile.d/conda.sh\n",
    "\n",
    "# Create and activate the test-env conda environment\n",
    "conda create -y -n test-env python=3.6.3 ipykernel astropy pandas\n",
    "conda activate test-env\n",
    "\n",
    "# Install the conda environment as a jupyter kernel\n",
    "python -m ipykernel install --user --name test-env --display-name \"test-env\"\n",
    "conda deactivate"
   ]
  },
  {
   "cell_type": "markdown",
   "metadata": {},
   "source": [
    "Upon restarting the notebook tab, the `test-env` kernel should now be available under the `Kernel` > `Change Kernel` tab. To make sure the `test-env` kernel uses the `test-env` environment, check the `kernel.json` file."
   ]
  },
  {
   "cell_type": "code",
   "execution_count": 9,
   "metadata": {},
   "outputs": [
    {
     "name": "stdout",
     "output_type": "stream",
     "text": [
      "{\n",
      " \"argv\": [\n",
      "  \"/Users/EliseBadun/miniconda3/envs/test-env/bin/python\",\n",
      "  \"-m\",\n",
      "  \"ipykernel_launcher\",\n",
      "  \"-f\",\n",
      "  \"{connection_file}\"\n",
      " ],\n",
      " \"display_name\": \"test-env\",\n",
      " \"language\": \"python\"\n",
      "}"
     ]
    }
   ],
   "source": [
    "%%bash\n",
    "\n",
    "# Take a look at the jupyter kernels and check that python is from the test-env environment\n",
    "# i.e. the first argv should be ../envs/test-env/bin/python\n",
    "TEST_ENV_BASE=$(jupyter kernelspec list | grep -o /.*/test-env)\n",
    "cat $TEST_ENV_BASE/kernel.json"
   ]
  },
  {
   "cell_type": "code",
   "execution_count": 10,
   "metadata": {},
   "outputs": [],
   "source": [
    "# Optional: To remove the test-env from jupyter and conda\n",
    "\n",
    "# ! rm -rf ~/Library/Jupyter/kernels/test-env\n",
    "# ! conda remove --name test-env --all -y"
   ]
  },
  {
   "cell_type": "markdown",
   "metadata": {},
   "source": [
    "A new kernel has now been set up - all from inside a notebook!\n",
    "\n",
    "---\n",
    "## 4. Relevant Python Packages\n",
    "In astronomical notebooks at the CADC, some packages are regularly used. These include (but are not limited to) astropy, astroquery, matplotlib, numpy, and pandas. All of these packages can be installed by either `conda install [package]` or `pip install [package]`.\n",
    "\n",
    "#### Astropy\n",
    "\n",
    "[Astropy](https://www.astropy.org/) is an open source package containing tools for astronomy and astrophysics. It is a requirement for many other astronomy-related packages and has become a standard for units, coordinates, and other data structures in the astronomy community. Astropy also provides a module for reading and writing file types commonly used in astronomy such as Flexible Image Transport System (FITS) files, ASCII tables, and VOTable XML Virtual Observatory (VO) tables [[10][10]]. \n",
    "\n",
    "#### Astroquery\n",
    "\n",
    "[Astroquery](https://astroquery.readthedocs.io/en/latest/) is an astropy-affiliated packaged that provides an interface for querying online astronomy databases. It has modules provided by many different data hosts, including the CADC, allowing for easy access. Most of these databases can be queried using [Astronomical Data Query Language](http://www.ivoa.net/documents/ADQL/) (ADQL) which is an SQL-based query language.  \n",
    "\n",
    "#### Matplotlib\n",
    "\n",
    "[Matplotlib](https://matplotlib.org/) is a plotting library for simple plots. In Jupyter notebooks, the `pyplot` module is often used, which is derived from the MATLAB style of plotting.\n",
    "\n",
    "#### NumPy\n",
    "\n",
    "[Numpy](https://www.numpy.org/) (from numerical Python) is a universally used package for scientific computing. It has a powerful and fully-featured N-dimensional array class, which supports matrix operations and transformations. \n",
    "\n",
    "#### Pandas\n",
    "\n",
    "[Pandas](https://pandas.pydata.org/) is a package to organize and analyze data tables as data frames. It is popular in data science because of functionalities such as cleaning, filtering, grouping and joining tables. \n",
    "\n",
    "\n",
    "[10]: http://docs.astropy.org/en/stable/index.html"
   ]
  },
  {
   "cell_type": "markdown",
   "metadata": {},
   "source": [
    "\n",
    "---\n",
    "## 5. Hosting and Sharing\n",
    "One of the benefits of Jupyter notebooks is ease of sharing. Notebooks can be converted to a large number of formats, including Python, HTML, and PDF by going to `File`>`Download as`. Downloading and sharing is very easy, however if a notebook is being continually updated, the file must be re-downloaded and re-shared each iteration. This problem can be solved by using [GitHub](https://github.com/), a version control service, to host Jupyter notebooks. GitHub itself can render and display notebook files, another alternative is [nbViewer](https://nbviewer.jupyter.org/), which takes a URL to a notebook in a GitHub repo and shows the rendered notebook, for example this [imaging supernova tutorial](https://nbviewer.jupyter.org/github/ellieb/astroquery_tutorial/blob/master/astroquery_example_supernova.ipynb). Sharing interactive notebooks is also possible using [Binder](https://mybinder.readthedocs.io/en/latest/). This service takes a GitHub repo link and looks for a dependency file to build a docker image, creating a reproducible environment with all dependencies installed. An environment can be configured with an environment.yml file, a requirements.txt file, a Dockerfile, and other kinds of [configuration files](https://mybinder.readthedocs.io/en/latest/config_files.html#config-files). There are, however, some limitations to Binder - notebooks will shutdown after 10 minutes of inactivity and there is a maximum of 2 GB of RAM [[11][11]]. \n",
    "\n",
    "\n",
    "[11]: https://mybinder.readthedocs.io/en/latest/faq.html#user-memory"
   ]
  },
  {
   "cell_type": "markdown",
   "metadata": {},
   "source": [
    "---\n",
    "## 6. Example\n",
    "\n",
    "A small example will be demoed. This follows the basic format of the [CADC notebook tutorials](https://github.com/opencadc/notebook-tutorials) where CADC data is queried, the results are filtered, the data is fetched, and then the image is plotted. In this case, an image of Messier 38 from the Canada-France-Hawaii Telescope (CFHT) will be plotted.\n"
   ]
  },
  {
   "cell_type": "code",
   "execution_count": 11,
   "metadata": {
    "scrolled": true
   },
   "outputs": [
    {
     "data": {
      "text/html": [
       "<i>Table masked=True length=5</i>\n",
       "<table id=\"table4774262376-954920\" class=\"table-striped table-bordered table-condensed\">\n",
       "<thead><tr><th>idx</th><th>observationID</th><th>collection</th><th>target_name</th><th>instrument_name</th><th>dataProductType</th><th>time_exposure</th></tr></thead>\n",
       "<thead><tr><th></th><th></th><th></th><th></th><th></th><th></th><th>s</th></tr></thead>\n",
       "<tr><td>0</td><td>691497</td><td>CFHT</td><td>Messier 38</td><td>MegaPrime</td><td>image</td><td>10.144999999999998</td></tr>\n",
       "<tr><td>1</td><td>691498</td><td>CFHT</td><td>Messier 38</td><td>MegaPrime</td><td>image</td><td>10.134999999999996</td></tr>\n",
       "<tr><td>2</td><td>691499</td><td>CFHT</td><td>Messier 38</td><td>MegaPrime</td><td>image</td><td>10.132999999999997</td></tr>\n",
       "<tr><td>3</td><td>691500</td><td>CFHT</td><td>Messier 38</td><td>MegaPrime</td><td>image</td><td>10.132999999999997</td></tr>\n",
       "<tr><td>4</td><td>691501</td><td>CFHT</td><td>Messier 38</td><td>MegaPrime</td><td>image</td><td>10.13400000000001</td></tr>\n",
       "</table><style>table.dataTable {clear: both; width: auto !important; margin: 0 !important;}\n",
       ".dataTables_info, .dataTables_length, .dataTables_filter, .dataTables_paginate{\n",
       "display: inline-block; margin-right: 1em; }\n",
       ".paginate_button { margin-right: 5px; }\n",
       "</style>\n",
       "<script>\n",
       "\n",
       "var astropy_sort_num = function(a, b) {\n",
       "    var a_num = parseFloat(a);\n",
       "    var b_num = parseFloat(b);\n",
       "\n",
       "    if (isNaN(a_num) && isNaN(b_num))\n",
       "        return ((a < b) ? -1 : ((a > b) ? 1 : 0));\n",
       "    else if (!isNaN(a_num) && !isNaN(b_num))\n",
       "        return ((a_num < b_num) ? -1 : ((a_num > b_num) ? 1 : 0));\n",
       "    else\n",
       "        return isNaN(a_num) ? -1 : 1;\n",
       "}\n",
       "\n",
       "require.config({paths: {\n",
       "    datatables: 'https://cdn.datatables.net/1.10.12/js/jquery.dataTables.min'\n",
       "}});\n",
       "require([\"datatables\"], function(){\n",
       "    console.log(\"$('#table4774262376-954920').dataTable()\");\n",
       "    \n",
       "jQuery.extend( jQuery.fn.dataTableExt.oSort, {\n",
       "    \"optionalnum-asc\": astropy_sort_num,\n",
       "    \"optionalnum-desc\": function (a,b) { return -astropy_sort_num(a, b); }\n",
       "});\n",
       "\n",
       "    $('#table4774262376-954920').dataTable({\n",
       "        order: [],\n",
       "        pageLength: 50,\n",
       "        lengthMenu: [[10, 25, 50, 100, 500, 1000, -1], [10, 25, 50, 100, 500, 1000, 'All']],\n",
       "        pagingType: \"full_numbers\",\n",
       "        columnDefs: [{targets: [0, 6], type: \"optionalnum\"}]\n",
       "    });\n",
       "});\n",
       "</script>\n"
      ],
      "text/plain": [
       "<IPython.core.display.HTML object>"
      ]
     },
     "execution_count": 11,
     "metadata": {},
     "output_type": "execute_result"
    }
   ],
   "source": [
    "import numpy as np\n",
    "from astropy.io import fits\n",
    "from astropy.coordinates import SkyCoord\n",
    "from astropy.io import fits\n",
    "from astroquery.cadc import Cadc\n",
    "import matplotlib.pyplot as plt\n",
    "from astropy.visualization import ImageNormalize, LinearStretch, ZScaleInterval\n",
    "\n",
    "# Instantiates the CADC module\n",
    "cadc = Cadc()\n",
    "\n",
    "# Get the coordinates from name\n",
    "coords = SkyCoord.from_name('M38')\n",
    "\n",
    "# Use the CADC module to query CFHT images around M38\n",
    "result = cadc.query_region(coords, collection='CFHT')\n",
    "\n",
    "# Filter the results that have time_exposure over 10.13 seconds\n",
    "filtered_result = result[result['time_exposure'] > 10.13]\n",
    "\n",
    "# Print subset of cols\n",
    "cols = ['observationID', 'collection', 'target_name', 'instrument_name', \n",
    "    'dataProductType',  'time_exposure']\n",
    "filtered_result[cols].show_in_notebook()\n"
   ]
  },
  {
   "cell_type": "code",
   "execution_count": 12,
   "metadata": {},
   "outputs": [
    {
     "data": {
      "text/plain": [
       "<matplotlib.image.AxesImage at 0x11d4adba8>"
      ]
     },
     "execution_count": 12,
     "metadata": {},
     "output_type": "execute_result"
    },
    {
     "data": {
      "image/png": "[encoded data removed]",
      "text/plain": [
       "<Figure size 432x288 with 1 Axes>"
      ]
     },
     "metadata": {
      "needs_background": "light"
     },
     "output_type": "display_data"
    }
   ],
   "source": [
    "# Get data url with CADC module\n",
    "url = cadc.get_image_list(filtered_result, coords, '0.05 deg')[0]\n",
    "\n",
    "# Access and open the data from the 1st extension\n",
    "with fits.open(url) as hdul:\n",
    "    image_data = hdul[1].data\n",
    "    \n",
    "# Normalize and plot the data\n",
    "image_data_norm = ImageNormalize(image_data,\n",
    "                                 interval=ZScaleInterval(),\n",
    "                                 stretch=LinearStretch())\n",
    "\n",
    "# Plot the image\n",
    "plt.title('M38 Object')\n",
    "plt.imshow(image_data, norm=image_data_norm)"
   ]
  },
  {
   "cell_type": "markdown",
   "metadata": {},
   "source": [
    "In that example, the CADC database was quickly queried to find, download, and plot an image around Messier 38 from the CFHT.\n",
    "\n",
    "---\n",
    "## 7. Conclusion\n",
    "Jupyter notebooks are useful tools for creating, explaining, visualizing, and sharing Python code. Jupyter notebooks have two main types of cells: code and markdown. In code cells, the kernel is the compiler, and can execute a large number of languages. The magic commands further expand the functionality of code cells by providing a solution to common problems in data analysis. The markdown cells follow the GitHub flavored markdown, with additional support for rendering Latex equations. The virtual environment management capabilities of conda can be used to make kernels to easier manage dependencies and Python versions among different notebooks. Notebook development at the CADC often use the astropy, astroquery, matplotlib, numpy, and pandas packages, so it is recommended to be familiar with these pacakges if either creating or following an astronomy notebook. Notebooks can be converted to a variety of formats for easy sharing, and hosted statically on NBViewer and interactively using Binder. All the tools and extensions mentioned in the tutorial will set users up for success in developing Jupyter notebooks."
   ]
  },
  {
   "cell_type": "markdown",
   "metadata": {},
   "source": [
    "\n",
    "---\n",
    "## 8. References\n",
    "\n",
    "[1] GitHub Search: .ipynb. (n.d.). Retrieved August 22, 2019, from https://github.com/search?utf8=✓&q=extension:ipynb nbformat_minor\n",
    "\n",
    "[2] System Requirements. (2018, September 17). Retrieved from https://docs.anaconda.com/anaconda-enterprise/system-requirements/\n",
    "\n",
    "[3] Notebook Basics. (n.d.). Retrieved August 22, 2019, from https://nbviewer.jupyter.org/github/jupyter/notebook/blob/master/docs/source/examples/Notebook/Notebook%20Basics.ipynb\n",
    "\n",
    "[4] Jupyter Notebook. (2016, November 4). Retrieved August 22, 2019, from https://fileinfo.com/extension/ipynb\n",
    "\n",
    "[5] Willems, K. (2019, January 9). Jupyter Notebook Tutorial: Definitive Guide. Retrieved August 22, 2019, from https://www.datacamp.com/community/tutorials/tutorial-jupyter-notebook\n",
    "\n",
    "[6] Devlin, J. (2019, August 05). 28 Jupyter Notebook Tips, Tricks, and Shortcuts for Data Science. Retrieved August 22, 2019, from https://www.dataquest.io/blog/jupyter-notebook-tips-tricks-shortcuts/\n",
    "\n",
    "[7] The Jupyter Notebook Format. (n.d.). Retrieved August 22, 2019, from https://ipython.org/ipython-doc/dev/notebook/nbformat.html\n",
    "\n",
    "[8] Helmus, J. (2018, November 18). Understanding Conda and Pip. Retrieved August 22, 2019, from https://www.anaconda.com/understanding-conda-and-pip/\n",
    "\n",
    "[9] VanderPlas, J. (2016, August 25). Conda: Myths and Misconceptions. Retrieved August 22, 2019, from https://jakevdp.github.io/blog/2016/08/25/conda-myths-and-misconceptions/\n",
    "\n",
    "[10] Astropy Documentation. (n.d.). Retrieved August 22, 2019, from http://docs.astropy.org/en/stable/index.html\n",
    "\n",
    "[11] Frequently Asked Questions. (n.d.). Retrieved August 22, 2019, from https://mybinder.readthedocs.io/en/latest/faq.html#user-memory"
   ]
  },
  {
   "cell_type": "code",
   "execution_count": null,
   "metadata": {},
   "outputs": [],
   "source": []
  }
 ],
 "metadata": {
  "kernelspec": {
   "display_name": "Python 3",
   "language": "python",
   "name": "python3"
  },
  "language_info": {
   "codemirror_mode": {
    "name": "ipython",
    "version": 3
   },
   "file_extension": ".py",
   "mimetype": "text/x-python",
   "name": "python",
   "nbconvert_exporter": "python",
   "pygments_lexer": "ipython3",
   "version": "3.7.3"
  },
  "toc": {
   "base_numbering": 1,
   "nav_menu": {},
   "number_sections": true,
   "sideBar": true,
   "skip_h1_title": false,
   "title_cell": "Table of Contents",
   "title_sidebar": "Contents",
   "toc_cell": true,
   "toc_position": {},
   "toc_section_display": true,
   "toc_window_display": true
  },
  "varInspector": {
   "cols": {
    "lenName": 16,
    "lenType": 16,
    "lenVar": 40
   },
   "kernels_config": {
    "python": {
     "delete_cmd_postfix": "",
     "delete_cmd_prefix": "del ",
     "library": "var_list.py",
     "varRefreshCmd": "print(var_dic_list())"
    },
    "r": {
     "delete_cmd_postfix": ") ",
     "delete_cmd_prefix": "rm(",
     "library": "var_list.r",
     "varRefreshCmd": "cat(var_dic_list()) "
    }
   },
   "types_to_exclude": [
    "module",
    "function",
    "builtin_function_or_method",
    "instance",
    "_Feature"
   ],
   "window_display": false
  }
 },
 "nbformat": 4,
 "nbformat_minor": 2
}
