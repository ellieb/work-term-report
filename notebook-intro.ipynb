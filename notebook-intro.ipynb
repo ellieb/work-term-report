{
 "cells": [
  {
   "cell_type": "markdown",
   "metadata": {},
   "source": [
    "# Work Term Report\n",
    "\n",
    "## Table of Contents\n",
    "* [1. Introduction](#1.-Introduction)\n",
    "    * [1.1  Installation and Setup](#1.1-Installation-and-Setup)\n",
    "        * [1.1.1 Anaconda](#1.1.1-Anaconda)\n",
    "        * [1.1.2 Miniconda](#1.1.2-Miniconda)\n",
    "        * [1.1.3 Using Pip](#1.1.3-Using-Pip)\n",
    "    * [1.2  Running Jupyter](#1.2-Running-Jupyter)\n",
    "    * [1.3  Kernel](#1.3-Kernel)\n",
    "* [2. Jupyter Notebook Basics](#2.-Jupyter-Notebook-Basics)\n",
    "    * [2.1 Starting Out](#2.1-Starting-Out)\n",
    "    * [2.2 Code Cells](#2.2-Code-Cells)\n",
    "    * [2.3 Markdown Cells](#2.3-Markdown-Cells)\n",
    "        * [2.3.1 Basics](#2.3.1-Basics)\n",
    "        * [2.3.2 Lists](#2.3.2-Lists)\n",
    "        * [2.3.3 Tables](#2.3.3-Tables)\n",
    "        * [2.3.4 Latex](#2.3.4-Latex)        \n",
    "    * [2.4 Raw NBConvert Cells](#2.4-Raw-NBConvert-Cells)\n",
    "* [3. Conda Virtual Environments](#3.-Conda-Virtual-Environments)\n",
    "    * [3.1 Why Conda](#3.1-Why-Conda)\n",
    "    * [3.2 How To Setup a Virtual Environment on the Kernel](#3.1-How-To-Setup-a-Virtual-Environment-on-the-Kernel)    \n",
    "* [4. Relevant Python Packages](#4.-Relevant-Python-Packages)\n",
    "    * [4.1 Quick Example](#4.1-Quick-Example)\n",
    "\n",
    "* [5. Widgets](#5.-Widgets)\n",
    "    * [5.1 The KBO Figure](#5.1-The-KBO-Figure)\n",
    "* [6. Putting it All Together](#6.-Putting-it-All-Together)\n",
    "\n",
    "---\n",
    "\n",
    "## 1. Introduction\n",
    "\n",
    "Jupyter notebooks have a huge variety of applications and with over 5 million notebooks on GitHub, are becoming more and more popular by the day [[1][1]]. As adoption of these notebooks increases, it becomes important to understand how they work and how to use them. The purpose of this notebook is to provide an interactive introduction to Jupyter notebooks, from installation to development tools, to help new users get started. \n",
    "\n",
    "### 1.1 Installation and Setup\n",
    "There are a few different ways to install Jupyter notebooks, depending on the needs of the user. \n",
    "\n",
    "#### 1.1.1 Anaconda\n",
    "The easiest way to install Jupyter is to install [Anaconda](https://docs.anaconda.com/). Anaconda is a pacakge manager, virutal environment manager, and Python data science distribution. Installing Anaconda installs over 200 other data science packages, meaning the base installation takes up around 2GB [[2][2]]. This includes astropy, bokeh, conda, ipykernel, ipywidgets, jupyter, jupyterlab, matplotlib, numpy, pandas, requests, scikit-learn, scipy, seaborn, and many [other packages](https://docs.anaconda.com/anaconda/packages/py3.7_osx-64/). The Anaconda installation and instructions can be found on the [Anaconda website](https://www.anaconda.com/distribution/#download-section), where an OS-specfic installer can be downloaded. Many users have no need for 200+ packages however, and find Anaconda to be too heavy.\n",
    "\n",
    "#### 1.1.2 Miniconda\n",
    "A lighter alternative to Anaconda is [Miniconda](https://docs.conda.io/en/latest/miniconda.html). This installation only contains conda, its dependencies, and Python. Conda is both a package manager and virtual environment manager, so all other needed packages can be installed using conda. The installation instructions can be found on the [conda website](https://docs.conda.io/en/latest/miniconda.html).\n",
    "\n",
    "Once Miniconda is installed, Jupyter can be installed through conda via command line:\n",
    "```\n",
    "conda install jupyter\n",
    "```\n",
    "\n",
    "#### 1.1.3 Using Pip\n",
    "For users with some previous Python experience, Jupyter can be installed via pip using the commands:\n",
    "```\n",
    "pip install --upgrade pip\n",
    "pip install jupyter\n",
    "```\n",
    "Which first upgrades pip and then installs jupyter.\n",
    "\n",
    "### 1.2 Running Jupyter\n",
    "To run jupyter, in the command line, type:\n",
    "\n",
    "`jupyter notebook`\n",
    "\n",
    "and an instance should open in a browser. To see all the command options, use the `--help` or `-h` flag. Once jupyter has been started, the notebook dashboard will appear in the browser, as in the image below.\n",
    "\n",
    "![notebook dashboard](data/notebook-dashboard.png)\n",
    "\n",
    "The dashboard should show all files in directory that the jupyter instance was started in. To create a new notebook, select the `New` dropdown, then select the kernel. In this example, the only option is 'Python 3'. Once clicked, a new, untitled notebook will be opened.\n",
    "\n",
    "![notebook dashboard](data/new-notebook-kernel.png)\n",
    "\n",
    "The notebook should now be running. It will remain running until it is shutdown, either from the notebook dashboard or the command line - closing the browser will not stop the notebook [[3][3]]. Returning to the dashboard page, the new notebook should be visible with a green book icon which indicates it is running. Selecting the checkbox next to a running notebook will bring up options to duplicate, shutdown, view, edit, or delete it. Notebooks are of file type .ipynb, which store cell input, output, and metadata in JSON format [[4][4]].\n",
    "\n",
    "### 1. 3 Kernel\n",
    "The kernel is the notebook backend, which performs the computation of the code cells. There are many [different kernel languages](https://github.com/jupyter/jupyter/wiki/Jupyter-kernels) that Juypter supports (in fact, Jupyter comes from the combination of words Julia, Python, and R!)[https://www.datacamp.com/community/tutorials/tutorial-jupyter-notebook], but this notebook is focused on Python kernels. Kernels can be of different languages, but also have different installed packages and versions. It is common for different notebooks to run different versions of Python and need different \n",
    "\n",
    "It is common to need different environments for different notebooks, which is where kernels also help. Different kernels can \n",
    "\n",
    "\n",
    "A kernel can also be a different environemnt with Jupyter supports m A common need is to run a different version of Python for different notebooks. In this case, a new conda envrionment could be created which uses the needed Python version, as well as the packages needed. This will covered in detail in [section 5](#5.-Conda-Virtual-Environments).\n",
    "\n",
    "---\n",
    "\n",
    "## 2. Jupyter Notebook Basics\n",
    "The notebooks themselves are much more featured than just Python and text.\n",
    "\n",
    "### 2.1 Starting Out\n",
    "A notebook can be in either `Edit mode` or `Command mode`. Edit mode is for editting code or markdown cells, and command mode is for executing, copying, pasting, etc. entire cells. Edit mode can be entered by clicking on a cell or pressing <kbd>Enter</kbd> and command mode can be entered by clicking outside a cell or pressing <kbd>Esc</kbd>.\n",
    "\n",
    "Here are a few quick shortcuts:\n",
    "* <kbd>Shift</kbd>+<kbd>CMD</kbd>+<kbd>p</kbd> : Gives a searchable list of commands\n",
    "* <kbd>Shift</kbd>+<kbd>Enter</kbd> : Execute the current cell and move the next one\n",
    "* <kbd>CTRL</kbd>+<kbd>Enter</kbd> : Execute the current cell\n",
    "\n",
    "While in command mode:\n",
    "* `A` to insert a new cell above the current cell, `B` to insert a new cell below.\n",
    "* `M` to change the current cell to Markdown, `Y` to change it back to code\n",
    "* `D + D` (press the key twice) to delete the current cell\n",
    "\n",
    "Note: These are mappings for MacOS, TODO: get the right ones for windows/linuxIf using Windows or Linux, <kbd>CMD</kbd> should be replaced with <kbd>CTRL</kbd>\n",
    "\n",
    "Try to run the following code cell and see what happens.\n",
    "\n",
    "\n",
    "[1]: https://github.com/search?utf8=%E2%9C%93&q=extension%3Aipynb+nbformat_minor\n",
    "[2]: https://docs.anaconda.com/anaconda-enterprise/system-requirements/\n",
    "[3]: https://nbviewer.jupyter.org/github/jupyter/notebook/blob/master/docs/source/examples/Notebook/Notebook%20Basics.ipynb\n",
    "[4]: https://fileinfo.com/extension/ipynb"
   ]
  },
  {
   "cell_type": "code",
   "execution_count": 1,
   "metadata": {},
   "outputs": [
    {
     "name": "stdout",
     "output_type": "stream",
     "text": [
      "Hello World\n"
     ]
    }
   ],
   "source": [
    "print('Hello World')"
   ]
  },
  {
   "cell_type": "markdown",
   "metadata": {},
   "source": [
    "### 2.2 Code Cells\n",
    "The so-called 'magic commands' are built-in commands that are envoked with the `%` symbol. There is line magic (called with `%`) and cell magic (called with `%%`). Cell magic commands should be at the top of a code cell. Magic commands do a variety of tasks such as switching the type of code executed in the cell or timeing the code execution. In fact, the magic command `%lsmagic` will print a list of all magic comands. \n",
    "https://www.dataquest.io/blog/jupyter-notebook-tips-tricks-shortcuts/\n",
    "\n",
    "MARKDOWN RESOURCE: https://meta.askubuntu.com/editing-help"
   ]
  },
  {
   "cell_type": "code",
   "execution_count": 2,
   "metadata": {},
   "outputs": [
    {
     "data": {
      "application/json": {
       "cell": {
        "!": "OSMagics",
        "HTML": "Other",
        "SVG": "Other",
        "bash": "Other",
        "capture": "ExecutionMagics",
        "debug": "ExecutionMagics",
        "file": "Other",
        "html": "DisplayMagics",
        "javascript": "DisplayMagics",
        "js": "DisplayMagics",
        "latex": "DisplayMagics",
        "markdown": "DisplayMagics",
        "perl": "Other",
        "prun": "ExecutionMagics",
        "pypy": "Other",
        "python": "Other",
        "python2": "Other",
        "python3": "Other",
        "ruby": "Other",
        "script": "ScriptMagics",
        "sh": "Other",
        "svg": "DisplayMagics",
        "sx": "OSMagics",
        "system": "OSMagics",
        "time": "ExecutionMagics",
        "timeit": "ExecutionMagics",
        "writefile": "OSMagics"
       },
       "line": {
        "alias": "OSMagics",
        "alias_magic": "BasicMagics",
        "autocall": "AutoMagics",
        "automagic": "AutoMagics",
        "autosave": "KernelMagics",
        "bookmark": "OSMagics",
        "cat": "Other",
        "cd": "OSMagics",
        "clear": "KernelMagics",
        "colors": "BasicMagics",
        "config": "ConfigMagics",
        "connect_info": "KernelMagics",
        "cp": "Other",
        "debug": "ExecutionMagics",
        "dhist": "OSMagics",
        "dirs": "OSMagics",
        "doctest_mode": "BasicMagics",
        "ed": "Other",
        "edit": "KernelMagics",
        "env": "OSMagics",
        "gui": "BasicMagics",
        "hist": "Other",
        "history": "HistoryMagics",
        "killbgscripts": "ScriptMagics",
        "ldir": "Other",
        "less": "KernelMagics",
        "lf": "Other",
        "lk": "Other",
        "ll": "Other",
        "load": "CodeMagics",
        "load_ext": "ExtensionMagics",
        "loadpy": "CodeMagics",
        "logoff": "LoggingMagics",
        "logon": "LoggingMagics",
        "logstart": "LoggingMagics",
        "logstate": "LoggingMagics",
        "logstop": "LoggingMagics",
        "ls": "Other",
        "lsmagic": "BasicMagics",
        "lx": "Other",
        "macro": "ExecutionMagics",
        "magic": "BasicMagics",
        "man": "KernelMagics",
        "matplotlib": "PylabMagics",
        "mkdir": "Other",
        "more": "KernelMagics",
        "mv": "Other",
        "notebook": "BasicMagics",
        "page": "BasicMagics",
        "pastebin": "CodeMagics",
        "pdb": "ExecutionMagics",
        "pdef": "NamespaceMagics",
        "pdoc": "NamespaceMagics",
        "pfile": "NamespaceMagics",
        "pinfo": "NamespaceMagics",
        "pinfo2": "NamespaceMagics",
        "pip": "BasicMagics",
        "popd": "OSMagics",
        "pprint": "BasicMagics",
        "precision": "BasicMagics",
        "profile": "BasicMagics",
        "prun": "ExecutionMagics",
        "psearch": "NamespaceMagics",
        "psource": "NamespaceMagics",
        "pushd": "OSMagics",
        "pwd": "OSMagics",
        "pycat": "OSMagics",
        "pylab": "PylabMagics",
        "qtconsole": "KernelMagics",
        "quickref": "BasicMagics",
        "recall": "HistoryMagics",
        "rehashx": "OSMagics",
        "reload_ext": "ExtensionMagics",
        "rep": "Other",
        "rerun": "HistoryMagics",
        "reset": "NamespaceMagics",
        "reset_selective": "NamespaceMagics",
        "rm": "Other",
        "rmdir": "Other",
        "run": "ExecutionMagics",
        "save": "CodeMagics",
        "sc": "OSMagics",
        "set_env": "OSMagics",
        "store": "StoreMagics",
        "sx": "OSMagics",
        "system": "OSMagics",
        "tb": "ExecutionMagics",
        "time": "ExecutionMagics",
        "timeit": "ExecutionMagics",
        "unalias": "OSMagics",
        "unload_ext": "ExtensionMagics",
        "who": "NamespaceMagics",
        "who_ls": "NamespaceMagics",
        "whos": "NamespaceMagics",
        "xdel": "NamespaceMagics",
        "xmode": "BasicMagics"
       }
      },
      "text/plain": [
       "Available line magics:\n",
       "%alias  %alias_magic  %autocall  %automagic  %autosave  %bookmark  %cat  %cd  %clear  %colors  %config  %connect_info  %cp  %debug  %dhist  %dirs  %doctest_mode  %ed  %edit  %env  %gui  %hist  %history  %killbgscripts  %ldir  %less  %lf  %lk  %ll  %load  %load_ext  %loadpy  %logoff  %logon  %logstart  %logstate  %logstop  %ls  %lsmagic  %lx  %macro  %magic  %man  %matplotlib  %mkdir  %more  %mv  %notebook  %page  %pastebin  %pdb  %pdef  %pdoc  %pfile  %pinfo  %pinfo2  %popd  %pprint  %precision  %profile  %prun  %psearch  %psource  %pushd  %pwd  %pycat  %pylab  %qtconsole  %quickref  %recall  %rehashx  %reload_ext  %rep  %rerun  %reset  %reset_selective  %rm  %rmdir  %run  %save  %sc  %set_env  %store  %sx  %system  %tb  %time  %timeit  %unalias  %unload_ext  %who  %who_ls  %whos  %xdel  %xmode\n",
       "\n",
       "Available cell magics:\n",
       "%%!  %%HTML  %%SVG  %%bash  %%capture  %%debug  %%file  %%html  %%javascript  %%js  %%latex  %%markdown  %%perl  %%prun  %%pypy  %%python  %%python2  %%python3  %%ruby  %%script  %%sh  %%svg  %%sx  %%system  %%time  %%timeit  %%writefile\n",
       "\n",
       "Automagic is ON, % prefix IS NOT needed for line magics."
      ]
     },
     "execution_count": 2,
     "metadata": {},
     "output_type": "execute_result"
    }
   ],
   "source": [
    "%lsmagic"
   ]
  },
  {
   "cell_type": "markdown",
   "metadata": {},
   "source": [
    "In particular, a few magic commands that are used heavily are the\n",
    " * `%%bash`: This converts the code cell to a bash shell.\n",
    " * `%%time`: Times the execution of the cell and prints a summary.\n",
    " * `%matplotlib [inline | notebook]`: Sets the matplotlib backend to output the plot. The `inline` backend displays plots statically, while the `notebook` backend has an interactive interface for the plots.\n"
   ]
  },
  {
   "cell_type": "code",
   "execution_count": 5,
   "metadata": {},
   "outputs": [
    {
     "name": "stderr",
     "output_type": "stream",
     "text": [
      "--2019-08-19 22:13:10--  https://emojipedia-us.s3.dualstack.us-west-1.amazonaws.com/socialmedia/apple/198/thumbs-up-sign_1f44d.png\n",
      "Resolving emojipedia-us.s3.dualstack.us-west-1.amazonaws.com (emojipedia-us.s3.dualstack.us-west-1.amazonaws.com)... 52.219.112.16, 2600:1fa0:c040:c0:34db:1800::\n",
      "Connecting to emojipedia-us.s3.dualstack.us-west-1.amazonaws.com (emojipedia-us.s3.dualstack.us-west-1.amazonaws.com)|52.219.112.16|:443... connected.\n",
      "HTTP request sent, awaiting response... 200 OK\n",
      "Length: 12471 (12K) [image/png]\n",
      "Saving to: ‘data/thumbs_up.png’\n",
      "\n",
      "     0K .......... ..                                         100% 5.29M=0.002s\n",
      "\n",
      "2019-08-19 22:13:11 (5.29 MB/s) - ‘data/thumbs_up.png’ saved [12471/12471]\n",
      "\n"
     ]
    }
   ],
   "source": [
    "%%bash\n",
    "wget --output-document=data/thumbs_up.png https://emojipedia-us.s3.dualstack.us-west-1.amazonaws.com/socialmedia/apple/198/thumbs-up-sign_1f44d.png"
   ]
  },
  {
   "cell_type": "code",
   "execution_count": 6,
   "metadata": {},
   "outputs": [
    {
     "name": "stdout",
     "output_type": "stream",
     "text": [
      "Hello World\n",
      "CPU times: user 188 µs, sys: 103 µs, total: 291 µs\n",
      "Wall time: 226 µs\n"
     ]
    }
   ],
   "source": [
    "%%time\n",
    "\n",
    "print('Hello World')"
   ]
  },
  {
   "cell_type": "markdown",
   "metadata": {},
   "source": [
    "To get a quick reference guide of IPython commands, use the `%quickref` command."
   ]
  },
  {
   "cell_type": "code",
   "execution_count": 7,
   "metadata": {},
   "outputs": [],
   "source": [
    "%quickref"
   ]
  },
  {
   "cell_type": "code",
   "execution_count": 8,
   "metadata": {},
   "outputs": [
    {
     "name": "stdout",
     "output_type": "stream",
     "text": [
      "\u001b[34mdata\u001b[m\u001b[m                 thumbs_up.png\r\n",
      "notebook-intro.ipynb word-count.py\r\n"
     ]
    }
   ],
   "source": [
    "! ls"
   ]
  },
  {
   "cell_type": "code",
   "execution_count": 9,
   "metadata": {},
   "outputs": [
    {
     "data": {
      "image/png": "[encoded data removed]",
      "text/plain": [
       "<matplotlib.figure.Figure at 0x104aa12e8>"
      ]
     },
     "metadata": {},
     "output_type": "display_data"
    }
   ],
   "source": [
    "%matplotlib inline\n",
    "import matplotlib.image as mpimg\n",
    "import matplotlib.pyplot as plt\n",
    "?mpimg # Quick access to the docstring\n",
    "img = mpimg.imread('data/thumbs_up.png')\n",
    "imgplot = plt.imshow(img)"
   ]
  },
  {
   "cell_type": "markdown",
   "metadata": {},
   "source": [
    "### 2.3 Markdown Cells\n",
    "Markdown cells are the main types of text cells used in Jupyter notebooks. It has text formatting syntax such as lists and tables, as defined in [Github-flavoured markdown](https://help.github.com/en/categories/writing-on-github). Markdown cells also support Latex equations.\n",
    "\n",
    "#### 2.3.1 Basics\n",
    "\n",
    "- Bold and Italics: To use *italics*, **bold** or ***italics and bold*** surround words in 1, 2, or 3 `*`\n",
    "``` \n",
    "This word would be in *italics*, this word would be **bold**, these words would be ***italics and bold***\n",
    "```\n",
    "\n",
    "- Links: There are a two different types of links in markdown.\n",
    "    1. To make an inline style link, surround text in `[]` and link in `()`\n",
    "    2. To make a reusable or citation style link, surround text in `[]` and reference to link in `[]`, with a reference at the bottom of the document to the link.\n",
    "    \n",
    "```\n",
    "This link would be inline: [Google markdown style guide](https://github.com/google/styleguide/blob/gh-pages/docguide/style.md)\n",
    "This link would be reusable [Project Juypter site][1]\n",
    "\n",
    "Where the 1 refers to the link defined below:\n",
    "\n",
    "  [1]: https://jupyter.org/\n",
    "  \n",
    "```\n",
    "\n",
    "- Images: Similar to links, images have the same syntax, but prefixed with a `!`\n",
    "\n",
    "```\n",
    "![Thumbs up](thumbs_up.png).\n",
    "```\n",
    "\n",
    "- Headers: To make headers, use hash marks. One mark for header one, two for header two, etc.\n",
    "```\n",
    "# Header 1 \n",
    "## Header 2 \n",
    "etc.\n",
    "###### Header 6 \n",
    "```\n",
    "\n",
    "\n",
    "- Horizontal Rule: To make a horizontal rules, use three `_` or `-` in a row\n",
    "```\n",
    "___ or ---\n",
    "```\n",
    "\n",
    "\n",
    "- Blockquotes: Use a `>` to begin blockquotes\n",
    "\n",
    "```\n",
    "> Starting a line with `>` gives a standard blockquote\n",
    "> Which can be continued by starting the next line with another `>`\n",
    "> > And can be nested by using multiple `>`\n",
    "```\n",
    "\n",
    "- Code: To print a section of code inline, `surround it in backticks`: `` ` ``\n",
    "\n",
    "- Verbatim: \n",
    "```\n",
    "To print a section of text verbatim, use triple backticks: ``````\n",
    "\n",
    "\n",
    "#### 2.3.2 Lists\n",
    "- Use a minus sign, plus sign, or asterisk for a bullet\n",
    "    * Lists can be nested using a tab\n",
    "\n",
    "\n",
    "1. Starting a list with `1.` will start a numbered list\n",
    "2. And continuing numbering will continue the list (in fact, the ordering of the numbers doesn't matter, Jupyter will keep track)\n",
    "\n",
    "[cite for the basics](https://meta.askubuntu.com/editing-help)\n",
    "\n",
    "#### 2.3.3 Tables\n",
    "\n",
    "\n",
    "| I'm                | A             | Table |\n",
    "| ------------------ |---------------|-------|\n",
    "| Other text effects | *still work*  |  1600 |\n",
    "| And the spacing doesn't matter! | Markdown will align itself  |  Neat |\n",
    "\n",
    "#### 2.3.4 Latex\n",
    "Another really useful feature is the support of Latex formatting in Jupyter notebooks, done through [MathJax](https://www.mathjax.org/). This is particularly useful for including mathematical equations in notebooks. \n",
    "\n",
    "Inline expressions can be included by wrapping Latex math code in `$`:\n",
    "\n",
    "- `$e^{i\\pi} + 1 = 0$`: $e^{i\\pi} + 1 = 0$\n",
    "\n",
    "An expression that takes its own line can be included by wrapping code in `$$`:\n",
    "\n",
    "- `$$e^x=\\sum_{i=0}^\\infty \\frac{1}{i!}x^i$$`:\n",
    "$$e^x=\\sum_{i=0}^\\infty \\frac{1}{i!}x^i$$\n",
    "\n",
    "[Markdown cheatsheet](https://github.com/adam-p/markdown-here/wiki/Markdown-Cheatsheet)\n",
    "\n",
    "### 2.4 Raw NBConvert Cells\n",
    "These types of cells are never rendered, and thus save in the ipynb files as they appear in the Jupyter editor. These types of cells are useful for (?????) https://ipython.org/ipython-doc/dev/notebook/nbformat.html"
   ]
  },
  {
   "cell_type": "raw",
   "metadata": {},
   "source": [
    "Nothing will happen to stuff in here!"
   ]
  },
  {
   "cell_type": "markdown",
   "metadata": {},
   "source": [
    "___\n",
    "\n",
    "## 3. Conda Virtual Environments\n",
    "A very useful feature of Jupyter notebooks is the ability to execute code using different kernels. This becomes extremely useful when packages have different dependencies or different versions of python. One tool that can be used to create kernels is conda, the package and virtual environment manager. When using Anaconda to download jupyter, conda is installed along with it.\n",
    "\n",
    "### 3.1 Why Conda\n",
    "Conda plays the part of both a package manager and virtual environment manager. The combination of pip and virtualenv gives gives the same functionality as conda does, with a few key differences.\n",
    "\n",
    "Conda is a general packages manager, while pip is a Python package manager. \n",
    "\n",
    "\n",
    "\n",
    "Virtualenv is a popular Python virtual environment package\n",
    "#TODO: Complete or remove this???\n",
    "\n",
    "### 3.2 How To Setup a Virtual Environment on the Kernel\n",
    "\n",
    "https://ipython.readthedocs.io/en/stable/install/kernel_install.html#kernels-for-python-2-and-3\n",
    "\n",
    "A conda environment can be created using the command\n",
    "`conda create -n [ENV_NAME] python=[PYTHON_VERSION] [PACKAGES]`\n",
    "\n",
    "To make a different Jupyter kernel using conda, first a new virtual environment is made that includes ipykernel. Then using ipykernel, the conda environment is installed."
   ]
  },
  {
   "cell_type": "code",
   "execution_count": 10,
   "metadata": {},
   "outputs": [
    {
     "name": "stdout",
     "output_type": "stream",
     "text": [
      "# conda environments:\r\n",
      "#\r\n",
      "base                     /Users/EliseBadun/miniconda3\r\n",
      "test-env                 /Users/EliseBadun/miniconda3/envs/test-env\r\n",
      "work-term             *  /Users/EliseBadun/miniconda3/envs/work-term\r\n",
      "\r\n"
     ]
    }
   ],
   "source": [
    "# To get a list of conda environment, plus the current one!\n",
    "!conda env list"
   ]
  },
  {
   "cell_type": "code",
   "execution_count": 11,
   "metadata": {},
   "outputs": [
    {
     "name": "stdout",
     "output_type": "stream",
     "text": [
      "Collecting package metadata (current_repodata.json): ...working... done\n",
      "Solving environment: ...working... failed with current_repodata.json, will retry with next repodata source.\n",
      "Collecting package metadata (repodata.json): ...working... done\n",
      "Solving environment: ...working... done\n",
      "\n",
      "## Package Plan ##\n",
      "\n",
      "  environment location: /Users/EliseBadun/miniconda3/envs/test-env\n",
      "\n",
      "  added / updated specs:\n",
      "    - astropy\n",
      "    - ipykernel\n",
      "    - pandas\n",
      "    - python=3.6.3\n",
      "\n",
      "\n",
      "The following packages will be downloaded:\n",
      "\n",
      "    package                    |            build\n",
      "    ---------------------------|-----------------\n",
      "    jedi-0.15.1                |           py36_0         707 KB\n",
      "    parso-0.5.1                |             py_0          68 KB\n",
      "    pip-19.2.2                 |           py36_0         1.9 MB\n",
      "    ------------------------------------------------------------\n",
      "                                           Total:         2.7 MB\n",
      "\n",
      "The following NEW packages will be INSTALLED:\n",
      "\n",
      "  appnope            pkgs/main/osx-64::appnope-0.1.0-py36hf537a9a_0\n",
      "  astropy            pkgs/main/osx-64::astropy-3.2.1-py36h1de35cc_0\n",
      "  atomicwrites       pkgs/main/osx-64::atomicwrites-1.3.0-py36_1\n",
      "  attrs              pkgs/main/osx-64::attrs-19.1.0-py36_1\n",
      "  backcall           pkgs/main/osx-64::backcall-0.1.0-py36_0\n",
      "  blas               pkgs/main/osx-64::blas-1.0-mkl\n",
      "  ca-certificates    pkgs/main/osx-64::ca-certificates-2019.5.15-1\n",
      "  certifi            pkgs/main/osx-64::certifi-2019.6.16-py36_1\n",
      "  decorator          pkgs/main/osx-64::decorator-4.4.0-py36_1\n",
      "  importlib_metadata pkgs/main/osx-64::importlib_metadata-0.19-py36_0\n",
      "  intel-openmp       pkgs/main/osx-64::intel-openmp-2019.4-233\n",
      "  ipykernel          pkgs/main/osx-64::ipykernel-5.1.2-py36h39e3cac_0\n",
      "  ipython            pkgs/main/osx-64::ipython-7.7.0-py36h39e3cac_0\n",
      "  ipython_genutils   pkgs/main/osx-64::ipython_genutils-0.2.0-py36h241746c_0\n",
      "  jedi               pkgs/main/osx-64::jedi-0.15.1-py36_0\n",
      "  jupyter_client     pkgs/main/noarch::jupyter_client-5.3.1-py_0\n",
      "  jupyter_core       pkgs/main/noarch::jupyter_core-4.5.0-py_0\n",
      "  libcxx             pkgs/main/osx-64::libcxx-4.0.1-hcfea43d_1\n",
      "  libcxxabi          pkgs/main/osx-64::libcxxabi-4.0.1-hcfea43d_1\n",
      "  libedit            pkgs/main/osx-64::libedit-3.1.20181209-hb402a30_0\n",
      "  libffi             pkgs/main/osx-64::libffi-3.2.1-h475c297_4\n",
      "  libgfortran        pkgs/main/osx-64::libgfortran-3.0.1-h93005f0_2\n",
      "  libsodium          pkgs/main/osx-64::libsodium-1.0.16-h3efe00b_0\n",
      "  mkl                pkgs/main/osx-64::mkl-2019.4-233\n",
      "  mkl-service        pkgs/main/osx-64::mkl-service-2.0.2-py36h1de35cc_0\n",
      "  mkl_fft            pkgs/main/osx-64::mkl_fft-1.0.14-py36h5e564d8_0\n",
      "  mkl_random         pkgs/main/osx-64::mkl_random-1.0.2-py36h27c97d8_0\n",
      "  more-itertools     pkgs/main/osx-64::more-itertools-7.2.0-py36_0\n",
      "  ncurses            pkgs/main/osx-64::ncurses-6.1-h0a44026_1\n",
      "  numpy              pkgs/main/osx-64::numpy-1.16.4-py36hacdab7b_0\n",
      "  numpy-base         pkgs/main/osx-64::numpy-base-1.16.4-py36h6575580_0\n",
      "  openssl            pkgs/main/osx-64::openssl-1.0.2s-h1de35cc_0\n",
      "  packaging          pkgs/main/osx-64::packaging-19.1-py36_0\n",
      "  pandas             pkgs/main/osx-64::pandas-0.25.0-py36h0a44026_0\n",
      "  parso              pkgs/main/noarch::parso-0.5.1-py_0\n",
      "  pexpect            pkgs/main/osx-64::pexpect-4.7.0-py36_0\n",
      "  pickleshare        pkgs/main/osx-64::pickleshare-0.7.5-py36_0\n",
      "  pip                pkgs/main/osx-64::pip-19.2.2-py36_0\n",
      "  pluggy             pkgs/main/noarch::pluggy-0.12.0-py_0\n",
      "  prompt_toolkit     pkgs/main/osx-64::prompt_toolkit-2.0.9-py36_0\n",
      "  psutil             pkgs/main/osx-64::psutil-5.6.3-py36h1de35cc_0\n",
      "  ptyprocess         pkgs/main/osx-64::ptyprocess-0.6.0-py36_0\n",
      "  py                 pkgs/main/osx-64::py-1.8.0-py36_0\n",
      "  pygments           pkgs/main/noarch::pygments-2.4.2-py_0\n",
      "  pyparsing          pkgs/main/noarch::pyparsing-2.4.2-py_0\n",
      "  pytest             pkgs/main/osx-64::pytest-5.0.1-py36_0\n",
      "  pytest-arraydiff   pkgs/main/osx-64::pytest-arraydiff-0.3-py36h39e3cac_0\n",
      "  pytest-astropy     pkgs/main/osx-64::pytest-astropy-0.5.0-py36_0\n",
      "  pytest-doctestplus pkgs/main/osx-64::pytest-doctestplus-0.3.0-py36_0\n",
      "  pytest-openfiles   pkgs/main/osx-64::pytest-openfiles-0.3.2-py36_0\n",
      "  pytest-remotedata  pkgs/main/osx-64::pytest-remotedata-0.3.2-py36_0\n",
      "  python             pkgs/main/osx-64::python-3.6.3-h47c878a_7\n",
      "  python-dateutil    pkgs/main/osx-64::python-dateutil-2.8.0-py36_0\n",
      "  pytz               pkgs/main/noarch::pytz-2019.2-py_0\n",
      "  pyzmq              pkgs/main/osx-64::pyzmq-18.1.0-py36h0a44026_0\n",
      "  readline           pkgs/main/osx-64::readline-7.0-h1de35cc_5\n",
      "  setuptools         pkgs/main/osx-64::setuptools-41.0.1-py36_0\n",
      "  six                pkgs/main/osx-64::six-1.12.0-py36_0\n",
      "  sqlite             pkgs/main/osx-64::sqlite-3.29.0-ha441bb4_0\n",
      "  tk                 pkgs/main/osx-64::tk-8.6.8-ha441bb4_0\n",
      "  tornado            pkgs/main/osx-64::tornado-6.0.3-py36h1de35cc_0\n",
      "  traitlets          pkgs/main/osx-64::traitlets-4.3.2-py36h65bd3ce_0\n",
      "  wcwidth            pkgs/main/osx-64::wcwidth-0.1.7-py36h8c6ec74_0\n",
      "  wheel              pkgs/main/osx-64::wheel-0.33.4-py36_0\n",
      "  xz                 pkgs/main/osx-64::xz-5.2.4-h1de35cc_4\n",
      "  zeromq             pkgs/main/osx-64::zeromq-4.3.1-h0a44026_3\n",
      "  zipp               pkgs/main/noarch::zipp-0.5.2-py_0\n",
      "  zlib               pkgs/main/osx-64::zlib-1.2.11-h1de35cc_3\n",
      "\n",
      "\n",
      "\n",
      "Downloading and Extracting Packages\n",
      "\r",
      "jedi-0.15.1          | 707 KB    |            |   0% \r",
      "jedi-0.15.1          | 707 KB    | 2          |   2% \r",
      "jedi-0.15.1          | 707 KB    | ########## | 100% \n",
      "\r",
      "pip-19.2.2           | 1.9 MB    |            |   0% \r",
      "pip-19.2.2           | 1.9 MB    | ##8        |  29% \r",
      "pip-19.2.2           | 1.9 MB    | ########4  |  84% \r",
      "pip-19.2.2           | 1.9 MB    | ########## | 100% \n",
      "\r",
      "parso-0.5.1          | 68 KB     |            |   0% \r",
      "parso-0.5.1          | 68 KB     | ########## | 100% \n",
      "Preparing transaction: ...working... done\n",
      "Verifying transaction: ...working... done\n",
      "Executing transaction: ...working... done\n",
      "#\n",
      "# To activate this environment, use\n",
      "#\n",
      "#     $ conda activate test-env\n",
      "#\n",
      "# To deactivate an active environment, use\n",
      "#\n",
      "#     $ conda deactivate\n",
      "\n",
      "Installed kernelspec test-env in /Users/EliseBadun/Library/Jupyter/kernels/test-env\n"
     ]
    },
    {
     "name": "stderr",
     "output_type": "stream",
     "text": [
      "\n",
      "\n",
      "==> WARNING: A newer version of conda exists. <==\n",
      "  current version: 4.7.10\n",
      "  latest version: 4.7.11\n",
      "\n",
      "Please update conda by running\n",
      "\n",
      "    $ conda update -n base -c defaults conda\n",
      "\n",
      "\n"
     ]
    }
   ],
   "source": [
    "%%bash\n",
    "\n",
    "# Get the location of the conda installation\n",
    "CONDA_BASE=$(conda info --base)\n",
    "\n",
    "# Run the conda executable to make it work in this bash script\n",
    "source $CONDA_BASE/etc/profile.d/conda.sh\n",
    "\n",
    "# Create and activate the test-env conda environment\n",
    "conda create -y -n test-env python=3.6.3 ipykernel astropy pandas\n",
    "conda activate test-env\n",
    "\n",
    "# Install the conda environment as a jupyter kernel\n",
    "python -m ipykernel install --user --name test-env --display-name \"test-env\""
   ]
  },
  {
   "cell_type": "markdown",
   "metadata": {},
   "source": [
    "Upon restarting the notebook tab, the test-env kernel should now be avaliable under the `Kernel` > `Change Kernel` tab. To make sure the `test-env` kernel uses the `test-env` environment, check the `kernel.json` file."
   ]
  },
  {
   "cell_type": "code",
   "execution_count": 12,
   "metadata": {
    "scrolled": true
   },
   "outputs": [
    {
     "name": "stdout",
     "output_type": "stream",
     "text": [
      "Requirement already satisfied: pyvo in /Library/Frameworks/Python.framework/Versions/3.6/lib/python3.6/site-packages (0.9.3)\n",
      "Requirement already satisfied: astroquery in /Library/Frameworks/Python.framework/Versions/3.6/lib/python3.6/site-packages (0.3.10.dev0)\n",
      "Requirement already satisfied: astropy in /Library/Frameworks/Python.framework/Versions/3.6/lib/python3.6/site-packages (from pyvo) (3.2.1)\n",
      "Requirement already satisfied: requests in /Library/Frameworks/Python.framework/Versions/3.6/lib/python3.6/site-packages (from pyvo) (2.18.4)\n",
      "Requirement already satisfied: mimeparse in /Library/Frameworks/Python.framework/Versions/3.6/lib/python3.6/site-packages (from pyvo) (0.1.3)\n",
      "Requirement already satisfied: six in /Library/Frameworks/Python.framework/Versions/3.6/lib/python3.6/site-packages (from pyvo) (1.11.0)\n",
      "Requirement already satisfied: keyring>=4.0 in /Library/Frameworks/Python.framework/Versions/3.6/lib/python3.6/site-packages (from astroquery) (19.0.2)\n",
      "Requirement already satisfied: beautifulsoup4>=4.3.2 in /Library/Frameworks/Python.framework/Versions/3.6/lib/python3.6/site-packages (from astroquery) (4.8.0)\n",
      "Requirement already satisfied: html5lib>=0.999 in /Library/Frameworks/Python.framework/Versions/3.6/lib/python3.6/site-packages (from astroquery) (1.0.1)\n",
      "Requirement already satisfied: numpy>=1.13 in /Library/Frameworks/Python.framework/Versions/3.6/lib/python3.6/site-packages (from astropy->pyvo) (1.14.1)\n",
      "Requirement already satisfied: certifi>=2017.4.17 in /Library/Frameworks/Python.framework/Versions/3.6/lib/python3.6/site-packages (from requests->pyvo) (2019.6.16)\n",
      "Requirement already satisfied: urllib3<1.23,>=1.21.1 in /Library/Frameworks/Python.framework/Versions/3.6/lib/python3.6/site-packages (from requests->pyvo) (1.22)\n",
      "Requirement already satisfied: chardet<3.1.0,>=3.0.2 in /Library/Frameworks/Python.framework/Versions/3.6/lib/python3.6/site-packages (from requests->pyvo) (3.0.4)\n",
      "Requirement already satisfied: idna<2.7,>=2.5 in /Library/Frameworks/Python.framework/Versions/3.6/lib/python3.6/site-packages (from requests->pyvo) (2.6)\n",
      "Requirement already satisfied: entrypoints in /Library/Frameworks/Python.framework/Versions/3.6/lib/python3.6/site-packages (from keyring>=4.0->astroquery) (0.2.3)\n",
      "Requirement already satisfied: soupsieve>=1.2 in /Library/Frameworks/Python.framework/Versions/3.6/lib/python3.6/site-packages (from beautifulsoup4>=4.3.2->astroquery) (1.9.2)\n",
      "Requirement already satisfied: webencodings in /Library/Frameworks/Python.framework/Versions/3.6/lib/python3.6/site-packages (from html5lib>=0.999->astroquery) (0.5.1)\n",
      "\u001b[33mWARNING: You are using pip version 19.2.1, however version 19.2.2 is available.\n",
      "You should consider upgrading via the 'pip install --upgrade pip' command.\u001b[0m\n"
     ]
    }
   ],
   "source": [
    "! pip install --pre pyvo astroquery "
   ]
  },
  {
   "cell_type": "code",
   "execution_count": 13,
   "metadata": {},
   "outputs": [
    {
     "name": "stdout",
     "output_type": "stream",
     "text": [
      "{\n",
      " \"argv\": [\n",
      "  \"/Users/EliseBadun/miniconda3/envs/test-env/bin/python\",\n",
      "  \"-m\",\n",
      "  \"ipykernel_launcher\",\n",
      "  \"-f\",\n",
      "  \"{connection_file}\"\n",
      " ],\n",
      " \"display_name\": \"test-env\",\n",
      " \"language\": \"python\"\n",
      "}"
     ]
    }
   ],
   "source": [
    "%%bash\n",
    "\n",
    "# Take a look at the jupyter kernels and check that test-env exists there\n",
    "TEST_ENV_BASE=$(jupyter kernelspec list | grep -o /.*/test-env)\n",
    "cat $TEST_ENV_BASE/kernel.json"
   ]
  },
  {
   "cell_type": "code",
   "execution_count": 14,
   "metadata": {},
   "outputs": [],
   "source": [
    "# To remove the test-env from jupyter and conda\n",
    "# ! rm -rf ~/Library/Jupyter/kernels/test-env\n",
    "# ! conda remove --name test-env --all -y"
   ]
  },
  {
   "cell_type": "markdown",
   "metadata": {},
   "source": [
    "---\n",
    "## 4. Relevant Python Packages\n",
    "In astronomical notebooks at the CADC, some pacakges are used extreamly often. These include (but are not limited to) astropy, astroquery, numpy, pandas, and matplotlib. \n",
    "\n",
    "All of these packages can be installed by either `pip install [package]` or `conda install package`.\n",
    "\n",
    "**Astropy** \n",
    "\n",
    "[Astropy](https://www.astropy.org/) is an open source package containing tools for astronomy and astrophysics. It is a requirement for many other astronomy-related packages and has become a standard for units, coordinates, and other data structures in the astronomy community. Astropy also provides a module for reading and writing file types commonly used in astronomy such as Flexible Image Transport System (FITS) files, ASCII tables, and VOTable XML Virtual Observatory (VO) tables [http://docs.astropy.org/en/stable/index.html]. \n",
    "\n",
    "**Astroquery**\n",
    "\n",
    "[Astroquery](https://astroquery.readthedocs.io/en/latest/) is an astropy-affiliated packaged that provides an interface for querying online astronomy databases. It has modules provided by many different data hosts, including the CADC, allowing for easy access their data. Most of these databases can be queried using ADQL (Astronomical Data Query Language) which is an SQL-based query language (http://www.ivoa.net/documents/ADQL/).  \n",
    "\n",
    "**Matplotlib**\n",
    "[Matplotlib](https://matplotlib.org/) is a plotting library for simple plots. In Jupyter notebooks, the `pyplot` module is often used, which is derived from the MATLAB style of plotting.\n",
    "\n",
    "Other helpful packages to learn would include numpy and pandas.\n",
    "\n",
    "**NumPy**\n",
    "[Numpy](https://www.numpy.org/) (from numerical Python) is a universally used package for scientific computing. It has a powerful and fully-featured N-dimensional array class, which supports matrix operations and transformations. \n",
    "\n",
    "**Pandas**\n",
    "[Pandas](https://pandas.pydata.org/) is a package to organize and analyze data tables as data frames. It is popular in data science because of functionalities such as cleaning, filtering, grouping and joining. \n",
    "\n",
    "\n",
    "\n",
    "### 4.1 Quick Example\n",
    "Now, a quick example using astropy, astroquery, and matplotlib.\n"
   ]
  },
  {
   "cell_type": "code",
   "execution_count": 15,
   "metadata": {},
   "outputs": [
    {
     "name": "stdout",
     "output_type": "stream",
     "text": [
      "Requirement already up-to-date: certifi in /Library/Frameworks/Python.framework/Versions/3.6/lib/python3.6/site-packages (2019.6.16)\n",
      " -- pip install --upgrade certifi\n",
      " -- removing any existing file or link\n",
      " -- creating symlink to certifi certificate bundle\n",
      " -- setting permissions\n",
      " -- update complete\n"
     ]
    },
    {
     "name": "stderr",
     "output_type": "stream",
     "text": [
      "WARNING: You are using pip version 19.2.1, however version 19.2.2 is available.\n",
      "You should consider upgrading via the 'pip install --upgrade pip' command.\n"
     ]
    }
   ],
   "source": [
    "%%bash\n",
    "# Note, using Python 3.6 on MacOS can result in SSL errors\n",
    "# In this case, try running the following command\n",
    "cd /Applications/Python\\ 3.6/\n",
    "./Install\\ Certificates.command"
   ]
  },
  {
   "cell_type": "code",
   "execution_count": 16,
   "metadata": {
    "scrolled": true
   },
   "outputs": [
    {
     "data": {
      "text/html": [
       "<i>Table masked=True length=5</i>\n",
       "<table id=\"table4401980752-822749\" class=\"table-striped table-bordered table-condensed\">\n",
       "<thead><tr><th>idx</th><th>observationID</th><th>collection</th><th>target_name</th><th>instrument_name</th><th>dataProductType</th><th>time_exposure</th></tr></thead>\n",
       "<thead><tr><th></th><th></th><th></th><th></th><th></th><th></th><th>s</th></tr></thead>\n",
       "<tr><td>0</td><td>691497</td><td>CFHT</td><td>Messier 38</td><td>MegaPrime</td><td>image</td><td>10.144999999999998</td></tr>\n",
       "<tr><td>1</td><td>691498</td><td>CFHT</td><td>Messier 38</td><td>MegaPrime</td><td>image</td><td>10.134999999999996</td></tr>\n",
       "<tr><td>2</td><td>691499</td><td>CFHT</td><td>Messier 38</td><td>MegaPrime</td><td>image</td><td>10.132999999999997</td></tr>\n",
       "<tr><td>3</td><td>691500</td><td>CFHT</td><td>Messier 38</td><td>MegaPrime</td><td>image</td><td>10.132999999999997</td></tr>\n",
       "<tr><td>4</td><td>691501</td><td>CFHT</td><td>Messier 38</td><td>MegaPrime</td><td>image</td><td>10.13400000000001</td></tr>\n",
       "</table><style>table.dataTable {clear: both; width: auto !important; margin: 0 !important;}\n",
       ".dataTables_info, .dataTables_length, .dataTables_filter, .dataTables_paginate{\n",
       "display: inline-block; margin-right: 1em; }\n",
       ".paginate_button { margin-right: 5px; }\n",
       "</style>\n",
       "<script>\n",
       "\n",
       "var astropy_sort_num = function(a, b) {\n",
       "    var a_num = parseFloat(a);\n",
       "    var b_num = parseFloat(b);\n",
       "\n",
       "    if (isNaN(a_num) && isNaN(b_num))\n",
       "        return ((a < b) ? -1 : ((a > b) ? 1 : 0));\n",
       "    else if (!isNaN(a_num) && !isNaN(b_num))\n",
       "        return ((a_num < b_num) ? -1 : ((a_num > b_num) ? 1 : 0));\n",
       "    else\n",
       "        return isNaN(a_num) ? -1 : 1;\n",
       "}\n",
       "\n",
       "require.config({paths: {\n",
       "    datatables: 'https://cdn.datatables.net/1.10.12/js/jquery.dataTables.min'\n",
       "}});\n",
       "require([\"datatables\"], function(){\n",
       "    console.log(\"$('#table4401980752-822749').dataTable()\");\n",
       "    \n",
       "jQuery.extend( jQuery.fn.dataTableExt.oSort, {\n",
       "    \"optionalnum-asc\": astropy_sort_num,\n",
       "    \"optionalnum-desc\": function (a,b) { return -astropy_sort_num(a, b); }\n",
       "});\n",
       "\n",
       "    $('#table4401980752-822749').dataTable({\n",
       "        order: [],\n",
       "        pageLength: 50,\n",
       "        lengthMenu: [[10, 25, 50, 100, 500, 1000, -1], [10, 25, 50, 100, 500, 1000, 'All']],\n",
       "        pagingType: \"full_numbers\",\n",
       "        columnDefs: [{targets: [0, 6], type: \"optionalnum\"}]\n",
       "    });\n",
       "});\n",
       "</script>\n"
      ],
      "text/plain": [
       "<IPython.core.display.HTML object>"
      ]
     },
     "execution_count": 16,
     "metadata": {},
     "output_type": "execute_result"
    }
   ],
   "source": [
    "import numpy as np\n",
    "from astropy.io import fits\n",
    "from astropy.coordinates import SkyCoord\n",
    "from astropy.io import fits\n",
    "from astroquery.cadc import Cadc\n",
    "import matplotlib.pyplot as plt\n",
    "from astropy.visualization import ImageNormalize, LinearStretch, ZScaleInterval\n",
    "\n",
    "cadc = Cadc()\n",
    "\n",
    "coords = SkyCoord.from_name('M38')\n",
    "result = cadc.query_region(coords, collection='CFHT')\n",
    "filtered_result = result[result['time_exposure'] > 10.13]\n",
    "\n",
    "cols = ['observationID', 'collection', 'target_name', 'instrument_name', \n",
    "    'dataProductType',  'time_exposure']\n",
    "filtered_result[cols].show_in_notebook()\n"
   ]
  },
  {
   "cell_type": "code",
   "execution_count": 17,
   "metadata": {},
   "outputs": [
    {
     "data": {
      "image/png": "[encoded data removed]",
      "text/plain": [
       "<matplotlib.figure.Figure at 0x10ba9f3c8>"
      ]
     },
     "metadata": {},
     "output_type": "display_data"
    }
   ],
   "source": [
    "url = cadc.get_data_urls(filtered_result)[0]\n",
    "with fits.open(url) as hdul:\n",
    "    image_data = hdul[1].data\n",
    "    \n",
    "# Normalize and plot the data\n",
    "image_data_norm = ImageNormalize(image_data,\n",
    "                                 interval=ZScaleInterval(),\n",
    "                                 stretch=LinearStretch())\n",
    "plt.imshow(image_data, norm=image_data_norm)\n",
    "        \n",
    "plt.show()"
   ]
  },
  {
   "cell_type": "markdown",
   "metadata": {},
   "source": [
    "In that example, the CADC database was quickly queried to find, download, and plot an image around Messier 38 from the CFHT.\n",
    "\n",
    "TODO: Delete nbextensions???\n",
    "---\n",
    "## 5. nbextensions\n",
    "To increase the functionality of Jupyter notebooks, NBExtensions can be installed. These community-developed, unofficial extensions can make development within a notebook much easier. Some extensions that may be helpful:\n",
    "- [Autopep8](https://jupyter-contrib-nbextensions.readthedocs.io/en/latest/nbextensions/code_prettify/README_autopep8.html)\n",
    "- [Prettier](https://jupyter-contrib-nbextensions.readthedocs.io/en/latest/nbextensions/code_prettify/README_code_prettify.html)\n",
    "- [Collapsable headings](https://jupyter-contrib-nbextensions.readthedocs.io/en/latest/nbextensions/collapsible_headings/readme.html)\n",
    "- [iSort](https://jupyter-contrib-nbextensions.readthedocs.io/en/latest/nbextensions/code_prettify/README_isort.html)\n",
    "- [Table of Contents](https://jupyter-contrib-nbextensions.readthedocs.io/en/latest/nbextensions/toc2/README.html)\n",
    "\n",
    "Jupter extensions can be installed and enabled in three steps:\n",
    "\n",
    "1. Download `jupyter-contrib-nbextensions` using pip with `pip install jupyter_contrib_nbextensions` or conda with `conda install -c conda-forge jupyter_contrib_nbextensions` (https://jupyter-contrib-nbextensions.readthedocs.io/en/latest/install.html). \n",
    "\n",
    "2. Then the javascript and CSS must be copied to the Jupyter repo, using the command `jupyter contrib nbextension install --user`. \n",
    "\n",
    "3. After setup, extensions can be enabled and disabled using the command `jupyter nbextension [enable|disable] <nbextension require path>`\n",
    "\n",
    "As an example, installing the PEP8 nbextension. "
   ]
  },
  {
   "cell_type": "code",
   "execution_count": null,
   "metadata": {},
   "outputs": [],
   "source": []
  },
  {
   "cell_type": "markdown",
   "metadata": {},
   "source": [
    "---\n",
    "## 6. Hosting and Sharing\n",
    "One of the benefits of jupyter notebooks is ease of sharing. Since the code can be interspersed with text, a rendered jupyter notebook file with explaintaory text can be very useful, compared to a python file. Notebooks can be converted to a large number of formats, including Python, HTML, and PDF by going to `File`>`Download as`. Notebooks can be easily downloaded within Jupyter and shared, however if a notebook is being continually updated, they must be re-downloaded and re-shared each iteration. This problem can be solved by using [GitHub](https://github.com/) to host Jupyter notebooks. GitHub itself can render and display notebook files. Alternatively, [nbViewer](https://nbviewer.jupyter.org/) takes a url to a notebook in a GitHub repo and shows the rendered notebook, for example this [imaging supernova tutorial](https://nbviewer.jupyter.org/github/ellieb/astroquery_tutorial/blob/master/astroquery_example_supernova.ipynb). Sharing interactive notebooks is also possible using [Binder](https://mybinder.readthedocs.io/en/latest/). This process takes a repo link and looks for a dependency file to build a docker image, creating a reproducible environment with all dependencies installed. There are some limitations to Binder - notebooks will shutdown after 10 minutes of inactivity and there is a maximum of 2 GB of RAM [https://mybinder.readthedocs.io/en/latest/faq.html#user-memory]. An environment can be configured with an environment.yml file, a requirements.txt file, a Dockerfile, and other kinds of [configuration files](https://mybinder.readthedocs.io/en/latest/config_files.html#config-files).\n",
    "\n",
    "---\n",
    "## 7. Conclusion\n",
    "Jupyter notebooks are useful tools for creating, explaining, visualizing, and sharing Python code. Jupyter notebooks have two main types of cells: code and markdown. In code cells, the kernel is the compiler, and can execute a large number of languages. The magic commands further expand the functionaliy of code cells by providing a solution to common problems and needs in data analysis. The markdown cells follow the GitHub flavored markdown, with additional support for rendering Latex equations. The virtual environment managment capabilities of conda can be used to make virtual environment kernels to easier manage dependencies and Python versions amoung different notebooks. Notebook development at the CADC often use the astropy, astroquery, matplotlib, numpy, and pandas packages, so it is recommended to be familiar with these pacakgesif either creating or following an astronomy notebook. If creating notebooks, nbextensions can assist with development and turn the Jupyter editor into a more functional IDE. Notebooks can be converted to a variety of formats for easy sharing, and hosted statically on NBViewer and interactiely using Binder. All the tools and extensions mentioned in the tutorial will set users up for sucess in developing Jupyter notebooks.\n",
    "\n"
   ]
  },
  {
   "cell_type": "markdown",
   "metadata": {},
   "source": [
    "#TODO: references\n",
    "** Things to look at: \n",
    "https://www.datacamp.com/community/tutorials/tutorial-jupyter-notebook\n",
    "https://jupyter-notebook.readthedocs.io/en/stable/\n",
    "**"
   ]
  },
  {
   "cell_type": "code",
   "execution_count": null,
   "metadata": {},
   "outputs": [],
   "source": []
  }
 ],
 "metadata": {
  "kernelspec": {
   "display_name": "Python 3",
   "language": "python",
   "name": "python3"
  },
  "language_info": {
   "codemirror_mode": {
    "name": "ipython",
    "version": 3
   },
   "file_extension": ".py",
   "mimetype": "text/x-python",
   "name": "python",
   "nbconvert_exporter": "python",
   "pygments_lexer": "ipython3",
   "version": "3.6.4"
  }
 },
 "nbformat": 4,
 "nbformat_minor": 2
}
